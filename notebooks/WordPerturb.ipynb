{
 "cells": [
  {
   "cell_type": "markdown",
   "metadata": {},
   "source": [
    "# Auto Word Perturbation\n",
    "\n",
    "Strategy: find k closest word(s) in GLoVe embedding space, limited to nouns that match the given word on singular/plural and capitalization. Assume that the given word is in vocab and a noun (but check and error out if this is not the case)."
   ]
  },
  {
   "cell_type": "code",
   "execution_count": 7,
   "metadata": {},
   "outputs": [
    {
     "name": "stdout",
     "output_type": "stream",
     "text": [
      "The autoreload extension is already loaded. To reload it, use:\n",
      "  %reload_ext autoreload\n"
     ]
    }
   ],
   "source": [
    "import sys\n",
    "sys.path.append('../')\n",
    "\n",
    "import numpy as np\n",
    "import pandas as pd\n",
    "import matplotlib.pyplot as plt\n",
    "import seaborn as sns\n",
    "import tqdm\n",
    "import torch\n",
    "from collections import defaultdict\n",
    "import random\n",
    "import math\n",
    "import pickle\n",
    "from gensim.models import KeyedVectors\n",
    "import nltk\n",
    "\n",
    "%matplotlib inline\n",
    "%load_ext autoreload\n",
    "%autoreload 2\n",
    "pd.options.display.max_columns = 100\n",
    "pd.options.display.max_rows = 100"
   ]
  },
  {
   "cell_type": "code",
   "execution_count": 3,
   "metadata": {},
   "outputs": [],
   "source": [
    "model = KeyedVectors.load_word2vec_format(\"../data/glove.840B.300d.txt\")"
   ]
  },
  {
   "cell_type": "code",
   "execution_count": 6,
   "metadata": {},
   "outputs": [
    {
     "data": {
      "text/plain": [
       "[('pigs', 0.8241785764694214),\n",
       " ('cow', 0.7384561896324158),\n",
       " ('rabbit', 0.7197104692459106),\n",
       " ('hog', 0.7072545289993286),\n",
       " ('guinea', 0.6808739900588989)]"
      ]
     },
     "execution_count": 6,
     "metadata": {},
     "output_type": "execute_result"
    }
   ],
   "source": [
    "model.most_similar(\"pig\", topn=5)"
   ]
  },
  {
   "cell_type": "markdown",
   "metadata": {},
   "source": [
    "## Get set of singular and plural nouns from Brown corpus"
   ]
  },
  {
   "cell_type": "code",
   "execution_count": 16,
   "metadata": {},
   "outputs": [],
   "source": [
    "nouns_sg = set()\n",
    "nouns_pl = set()\n",
    "\n",
    "for w, pos in nltk.corpus.brown.tagged_words():\n",
    "  if pos == 'NN':\n",
    "    nouns_sg.add(w.lower())\n",
    "  if pos == 'NNS':\n",
    "    nouns_pl.add(w.lower())"
   ]
  },
  {
   "cell_type": "code",
   "execution_count": 21,
   "metadata": {},
   "outputs": [
    {
     "name": "stdout",
     "output_type": "stream",
     "text": [
      "13236\n",
      "6667\n"
     ]
    }
   ],
   "source": [
    "print(len(nouns_sg))\n",
    "print(len(nouns_pl))\n",
    "\n",
    "assert 'women' in nouns_pl\n",
    "assert 'women' not in nouns_sg\n",
    "assert 'sheep' in nouns_sg\n",
    "assert 'sheep' in nouns_pl"
   ]
  },
  {
   "cell_type": "code",
   "execution_count": 41,
   "metadata": {},
   "outputs": [],
   "source": [
    "def capitalize(w):\n",
    "  return w[0].upper() + w[1:]\n",
    "  \n",
    "def closest_matching_words(w, topn=5):\n",
    "  is_caps = w[0].isupper()\n",
    "  w = w.lower()\n",
    "  \n",
    "  w2v_similar = model.most_similar(w, topn=100)\n",
    "  ans = []\n",
    "  for sim_w, _ in w2v_similar:\n",
    "    if w in nouns_sg and sim_w in nouns_sg or \\\n",
    "        w in nouns_pl and sim_w in nouns_pl:\n",
    "      ans.append(capitalize(sim_w) if is_caps else sim_w)\n",
    "  return ans[:topn]"
   ]
  },
  {
   "cell_type": "code",
   "execution_count": 42,
   "metadata": {},
   "outputs": [
    {
     "data": {
      "text/plain": [
       "['cow', 'rabbit', 'hog', 'guinea', 'sheep']"
      ]
     },
     "execution_count": 42,
     "metadata": {},
     "output_type": "execute_result"
    }
   ],
   "source": [
    "closest_matching_words(\"pig\")"
   ]
  },
  {
   "cell_type": "code",
   "execution_count": 43,
   "metadata": {},
   "outputs": [
    {
     "data": {
      "text/plain": [
       "['chickens', 'cows', 'rabbits', 'sheep', 'animals']"
      ]
     },
     "execution_count": 43,
     "metadata": {},
     "output_type": "execute_result"
    }
   ],
   "source": [
    "closest_matching_words(\"pigs\")"
   ]
  },
  {
   "cell_type": "code",
   "execution_count": 44,
   "metadata": {},
   "outputs": [
    {
     "data": {
      "text/plain": [
       "['Chickens', 'Cows', 'Rabbits', 'Sheep', 'Animals']"
      ]
     },
     "execution_count": 44,
     "metadata": {},
     "output_type": "execute_result"
    }
   ],
   "source": [
    "closest_matching_words(\"Pigs\")"
   ]
  }
 ],
 "metadata": {
  "kernelspec": {
   "display_name": "Python 3",
   "language": "python",
   "name": "python3"
  },
  "language_info": {
   "codemirror_mode": {
    "name": "ipython",
    "version": 3
   },
   "file_extension": ".py",
   "mimetype": "text/x-python",
   "name": "python",
   "nbconvert_exporter": "python",
   "pygments_lexer": "ipython3",
   "version": "3.7.5"
  }
 },
 "nbformat": 4,
 "nbformat_minor": 4
}
