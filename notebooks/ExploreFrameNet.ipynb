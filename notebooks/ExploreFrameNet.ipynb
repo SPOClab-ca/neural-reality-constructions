{
 "cells": [
  {
   "cell_type": "markdown",
   "metadata": {},
   "source": [
    "# Explore FrameNet 1.7"
   ]
  },
  {
   "cell_type": "code",
   "execution_count": 1,
   "metadata": {},
   "outputs": [],
   "source": [
    "import numpy as np\n",
    "import pandas as pd\n",
    "import matplotlib.pyplot as plt\n",
    "import seaborn as sns\n",
    "import tqdm\n",
    "import torch\n",
    "from collections import defaultdict\n",
    "import random\n",
    "import math\n",
    "import pickle\n",
    "import nltk\n",
    "from nltk.corpus import framenet as fn\n",
    "\n",
    "%matplotlib inline\n",
    "%load_ext autoreload\n",
    "%autoreload 2\n",
    "pd.options.display.max_columns = 100\n",
    "pd.options.display.max_rows = 100"
   ]
  },
  {
   "cell_type": "markdown",
   "metadata": {},
   "source": [
    "## Look at some annotated sentences"
   ]
  },
  {
   "cell_type": "code",
   "execution_count": 2,
   "metadata": {},
   "outputs": [],
   "source": [
    "fn_sents = fn.sents()"
   ]
  },
  {
   "cell_type": "code",
   "execution_count": 3,
   "metadata": {},
   "outputs": [
    {
     "data": {
      "text/plain": [
       "exemplar sentence (4097054):\n",
       "[corpID] 135\n",
       "[docID] 23514\n",
       "[paragNo] 19\n",
       "[sentNo] 1\n",
       "[aPos] 0\n",
       "\n",
       "[LU] (10677) according to.prep in Attributed_information\n",
       "\n",
       "[frame] (1148) Attributed_information\n",
       "\n",
       "[annotationSet] 2 annotation sets\n",
       "\n",
       "[POS] 24 tags\n",
       "\n",
       "[POS_tagset] PENN\n",
       "\n",
       "[GF] 2 relations\n",
       "\n",
       "[PT] 2 phrases\n",
       "\n",
       "[text] + [Target] + [FE]\n",
       "\n",
       "Early 1990s , According to the British Observer , the British \n",
       "              ********* ** --------------------   ------------\n",
       "                           Text                   Proposition \n",
       " \n",
       "government exported chemicals to Iran that can be used to \n",
       "----------------------------------------------------------\n",
       "                                                          \n",
       " \n",
       "manufacture weapons .\n",
       "-------------------\n",
       "                   \n",
       " \n"
      ]
     },
     "execution_count": 3,
     "metadata": {},
     "output_type": "execute_result"
    }
   ],
   "source": [
    "fn_sents[12345]"
   ]
  },
  {
   "cell_type": "markdown",
   "metadata": {},
   "source": [
    "## Distribution of sentence lengths"
   ]
  },
  {
   "cell_type": "code",
   "execution_count": 4,
   "metadata": {},
   "outputs": [],
   "source": [
    "counter = defaultdict(int)\n",
    "for sent in fn_sents:\n",
    "  ntok = len(nltk.tokenize.word_tokenize(sent.text))\n",
    "  counter[ntok] += 1"
   ]
  },
  {
   "cell_type": "code",
   "execution_count": 5,
   "metadata": {},
   "outputs": [
    {
     "data": {
      "image/png": "[encoded data removed]",
      "text/plain": [
       "<Figure size 1080x360 with 1 Axes>"
      ]
     },
     "metadata": {
      "needs_background": "light"
     },
     "output_type": "display_data"
    }
   ],
   "source": [
    "plt.figure(figsize=(15, 5))\n",
    "plt.bar(counter.keys(), counter.values())\n",
    "plt.xlim((0, 120))\n",
    "plt.show()"
   ]
  },
  {
   "cell_type": "markdown",
   "metadata": {},
   "source": [
    "## Look at some shorter sentences"
   ]
  },
  {
   "cell_type": "code",
   "execution_count": 12,
   "metadata": {},
   "outputs": [],
   "source": [
    "short_sentences = [sent for sent in fn_sents[:200] if len(nltk.tokenize.word_tokenize(sent.text)) < 10]"
   ]
  },
  {
   "cell_type": "code",
   "execution_count": 13,
   "metadata": {},
   "outputs": [
    {
     "data": {
      "text/plain": [
       "['Another vehicle was abandoned at Great Victoria Street .',\n",
       " ', High Holborn , had been left behind .',\n",
       " 'Then he left her and went to bed .',\n",
       " 'Do n\\'t forget the binocs . \"',\n",
       " \"It 's crawling with cops . \",\n",
       " 'Harry looked round the crowded room . ',\n",
       " 'Occasionally in High Season Nidri Quay becomes crowded . ',\n",
       " 'Oh it looks crowded . ',\n",
       " 'The temple is always crowded with worshippers .',\n",
       " 'The Great Barrier Reef swarms with life . ',\n",
       " 'The narrow streets swarmed with young people . ',\n",
       " 'Above them , Hunters swarmed in increasing numbers . ']"
      ]
     },
     "execution_count": 13,
     "metadata": {},
     "output_type": "execute_result"
    }
   ],
   "source": [
    "[sent.text for sent in short_sentences]"
   ]
  }
 ],
 "metadata": {
  "kernelspec": {
   "display_name": "Python 3",
   "language": "python",
   "name": "python3"
  },
  "language_info": {
   "codemirror_mode": {
    "name": "ipython",
    "version": 3
   },
   "file_extension": ".py",
   "mimetype": "text/x-python",
   "name": "python",
   "nbconvert_exporter": "python",
   "pygments_lexer": "ipython3",
   "version": "3.7.5"
  }
 },
 "nbformat": 4,
 "nbformat_minor": 4
}
