{
 "cells": [
  {
   "cell_type": "markdown",
   "metadata": {},
   "source": [
    "# Explore FrameNet 1.7"
   ]
  },
  {
   "cell_type": "code",
   "execution_count": 1,
   "metadata": {},
   "outputs": [],
   "source": [
    "import numpy as np\n",
    "import pandas as pd\n",
    "import matplotlib.pyplot as plt\n",
    "import seaborn as sns\n",
    "import tqdm\n",
    "import torch\n",
    "from collections import defaultdict\n",
    "import random\n",
    "import math\n",
    "import pickle\n",
    "import nltk\n",
    "from nltk.corpus import framenet as fn\n",
    "\n",
    "%matplotlib inline\n",
    "%load_ext autoreload\n",
    "%autoreload 2\n",
    "pd.options.display.max_columns = 100\n",
    "pd.options.display.max_rows = 100"
   ]
  },
  {
   "cell_type": "markdown",
   "metadata": {},
   "source": [
    "## Look at some annotated sentences\n",
    "\n",
    "210k sentences, of which 200k are exemplars and 10k are full text.\n",
    "\n",
    "Only the exemplars have frame annotations, so we'll only use the exemplars."
   ]
  },
  {
   "cell_type": "code",
   "execution_count": 2,
   "metadata": {},
   "outputs": [
    {
     "name": "stdout",
     "output_type": "stream",
     "text": [
      "Exemplars: 200751\n",
      "Full text: 10147\n",
      "Total: 210898\n"
     ]
    }
   ],
   "source": [
    "print(\"Exemplars:\", len(fn.exemplars()))\n",
    "print(\"Full text:\", len(fn.ft_sents()))\n",
    "print(\"Total:\", len(fn.sents()))"
   ]
  },
  {
   "cell_type": "code",
   "execution_count": 3,
   "metadata": {},
   "outputs": [],
   "source": [
    "fn_sents = fn.exemplars()"
   ]
  },
  {
   "cell_type": "code",
   "execution_count": 4,
   "metadata": {},
   "outputs": [
    {
     "data": {
      "text/plain": [
       "exemplar sentence (4097054):\n",
       "[corpID] 135\n",
       "[docID] 23514\n",
       "[paragNo] 19\n",
       "[sentNo] 1\n",
       "[aPos] 0\n",
       "\n",
       "[LU] (10677) according to.prep in Attributed_information\n",
       "\n",
       "[frame] (1148) Attributed_information\n",
       "\n",
       "[annotationSet] 2 annotation sets\n",
       "\n",
       "[POS] 24 tags\n",
       "\n",
       "[POS_tagset] PENN\n",
       "\n",
       "[GF] 2 relations\n",
       "\n",
       "[PT] 2 phrases\n",
       "\n",
       "[text] + [Target] + [FE]\n",
       "\n",
       "Early 1990s , According to the British Observer , the British \n",
       "              ********* ** --------------------   ------------\n",
       "                           Text                   Proposition \n",
       " \n",
       "government exported chemicals to Iran that can be used to \n",
       "----------------------------------------------------------\n",
       "                                                          \n",
       " \n",
       "manufacture weapons .\n",
       "-------------------\n",
       "                   \n",
       " \n"
      ]
     },
     "execution_count": 4,
     "metadata": {},
     "output_type": "execute_result"
    }
   ],
   "source": [
    "fn_sents[12345]"
   ]
  },
  {
   "cell_type": "markdown",
   "metadata": {},
   "source": [
    "## Distribution of sentence lengths\n",
    "\n",
    "Average sentence is about 22 tokens, sharp dropoff at 40 for some reason."
   ]
  },
  {
   "cell_type": "code",
   "execution_count": 5,
   "metadata": {},
   "outputs": [],
   "source": [
    "# Much faster than nltk.tokenize.word_tokenize\n",
    "def approx_len(sent):\n",
    "  return len(sent.split())"
   ]
  },
  {
   "cell_type": "code",
   "execution_count": 6,
   "metadata": {},
   "outputs": [],
   "source": [
    "counter = defaultdict(int)\n",
    "for sent in fn_sents:\n",
    "  ntok = approx_len(sent.text)\n",
    "  counter[ntok] += 1"
   ]
  },
  {
   "cell_type": "code",
   "execution_count": 7,
   "metadata": {},
   "outputs": [
    {
     "data": {
      "image/png": "[encoded data removed]",
      "text/plain": [
       "<Figure size 1080x360 with 1 Axes>"
      ]
     },
     "metadata": {
      "needs_background": "light"
     },
     "output_type": "display_data"
    }
   ],
   "source": [
    "plt.figure(figsize=(15, 5))\n",
    "plt.bar(counter.keys(), counter.values())\n",
    "plt.xlim((0, 120))\n",
    "plt.show()"
   ]
  },
  {
   "cell_type": "markdown",
   "metadata": {},
   "source": [
    "## Look at some shorter sentences"
   ]
  },
  {
   "cell_type": "code",
   "execution_count": 8,
   "metadata": {},
   "outputs": [],
   "source": [
    "short_sentences = [sent for sent in fn_sents[:200] if approx_len(sent.text) < 10]"
   ]
  },
  {
   "cell_type": "code",
   "execution_count": 9,
   "metadata": {},
   "outputs": [
    {
     "data": {
      "text/plain": [
       "['Another vehicle was abandoned at Great Victoria Street .',\n",
       " ', High Holborn , had been left behind .',\n",
       " 'Then he left her and went to bed .',\n",
       " 'Do n\\'t forget the binocs . \"',\n",
       " \"It 's crawling with cops . \",\n",
       " 'Harry looked round the crowded room . ',\n",
       " 'Occasionally in High Season Nidri Quay becomes crowded . ',\n",
       " 'Oh it looks crowded . ',\n",
       " 'The temple is always crowded with worshippers .',\n",
       " 'The Great Barrier Reef swarms with life . ',\n",
       " 'The narrow streets swarmed with young people . ',\n",
       " 'Above them , Hunters swarmed in increasing numbers . ']"
      ]
     },
     "execution_count": 9,
     "metadata": {},
     "output_type": "execute_result"
    }
   ],
   "source": [
    "[sent.text for sent in short_sentences]"
   ]
  },
  {
   "cell_type": "code",
   "execution_count": 10,
   "metadata": {},
   "outputs": [
    {
     "data": {
      "text/plain": [
       "16425"
      ]
     },
     "execution_count": 10,
     "metadata": {},
     "output_type": "execute_result"
    }
   ],
   "source": [
    "len([sent for sent in fn_sents if approx_len(sent.text) <= 10])"
   ]
  },
  {
   "cell_type": "markdown",
   "metadata": {},
   "source": [
    "## Get sentences of a specific frame\n",
    "\n",
    "Here, there are 336 sentences labelled with the \"Commerce_buy\" frame."
   ]
  },
  {
   "cell_type": "code",
   "execution_count": 11,
   "metadata": {},
   "outputs": [],
   "source": [
    "buying_frame = fn.frames(\"Commerce_buy\")[0]"
   ]
  },
  {
   "cell_type": "code",
   "execution_count": 12,
   "metadata": {},
   "outputs": [
    {
     "data": {
      "text/plain": [
       "frame (171): Commerce_buy\n",
       "\n",
       "[URL] https://framenet2.icsi.berkeley.edu/fnReports/data/frame/Commerce_buy.xml\n",
       "\n",
       "[definition]\n",
       "  These are words describing a basic commercial transaction\n",
       "  involving a Buyer and a Seller exchanging Money and Goods, taking\n",
       "  the perspective of the Buyer.  The words vary individually in the\n",
       "  patterns of frame element realization they allow.  For example,\n",
       "  the typical pattern for the verb BUY: Buyer buys Goods from\n",
       "  Seller for Money. '' 'Abby bought a car from Robin for $5,000.'\n",
       "\n",
       "[semTypes] 0 semantic types\n",
       "\n",
       "[frameRelations] 7 frame relations\n",
       "  <Parent=Commerce_buy -- Inheritance -> Child=Renting>\n",
       "  <Parent=Getting -- Inheritance -> Child=Commerce_buy>\n",
       "  <Parent=Commerce_buy -- Using -> Child=Importing>\n",
       "  <Parent=Commerce_buy -- Using -> Child=Shopping>\n",
       "  <Source=Commerce_buy -- ReFraming_Mapping -> Target=Renting>\n",
       "  <Source=Commerce_scenario -- ReFraming_Mapping -> Target=Commerce_buy>\n",
       "  <Neutral=Commerce_goods-transfer -- Perspective_on -> Perspectivized=Commerce_buy>\n",
       "\n",
       "[lexUnit] 6 lexical units\n",
       "  buy.v (2966), buyer.n (17240), client.n (18663), purchase [act].n\n",
       "  (2973), purchase.v (2971), purchaser.n (17241)\n",
       "\n",
       "\n",
       "[FE] 15 frame elements\n",
       "            Core: Buyer (1389), Goods (1390)\n",
       "      Peripheral: Manner (4440), Means (1391), Money (1392), Place (1734), Purpose (1735), Rate (1393), Seller (1394), Time (1737), Unit (1395)\n",
       "  Extra-Thematic: Explanation (1736), Imposed_purpose (4822), Period_of_iterations (4470), Recipient (4445)\n",
       "\n",
       "[FEcoreSets] 0 frame element core sets\n",
       "  "
      ]
     },
     "execution_count": 12,
     "metadata": {},
     "output_type": "execute_result"
    }
   ],
   "source": [
    "buying_frame"
   ]
  },
  {
   "cell_type": "code",
   "execution_count": 13,
   "metadata": {},
   "outputs": [
    {
     "data": {
      "text/plain": [
       "336"
      ]
     },
     "execution_count": 13,
     "metadata": {},
     "output_type": "execute_result"
    }
   ],
   "source": [
    "len(fn.exemplars(frame=\"Commerce_buy\"))"
   ]
  },
  {
   "cell_type": "markdown",
   "metadata": {},
   "source": [
    "## Get all frame elements of sentences\n",
    "\n",
    "Easy to extract spans for frame elements, but they can be whole phrases, proper nouns, pronouns, etc.\n",
    "\n",
    "Target seems to always be one word, in the set of words that lexically trigger the frame."
   ]
  },
  {
   "cell_type": "code",
   "execution_count": 14,
   "metadata": {},
   "outputs": [],
   "source": [
    "example_sent = fn.exemplars(frame=\"Commerce_buy\")[0]\n",
    "example_text = example_sent.text"
   ]
  },
  {
   "cell_type": "code",
   "execution_count": 15,
   "metadata": {},
   "outputs": [
    {
     "data": {
      "text/plain": [
       "exemplar sentence (812690):\n",
       "[sentNo] 0\n",
       "[aPos] 24789176\n",
       "\n",
       "[LU] (2966) buy.v in Commerce_buy\n",
       "\n",
       "[frame] (171) Commerce_buy\n",
       "\n",
       "[annotationSet] 2 annotation sets\n",
       "\n",
       "[POS] 18 tags\n",
       "\n",
       "[POS_tagset] BNC\n",
       "\n",
       "[GF] 4 relations\n",
       "\n",
       "[PT] 4 phrases\n",
       "\n",
       "[Sent] 1 entry\n",
       "\n",
       "[text] + [Target] + [FE]\n",
       "\n",
       "Four years ago I bought an old Harmony Sovereign acoustic guitar \n",
       "               - ****** ---------------------------------------- \n",
       "               B        Goods                                    \n",
       " \n",
       "for £20 from an absolute prat . \n",
       "------- ---------------------\n",
       "Money   Seller               \n",
       " (B=Buyer)\n"
      ]
     },
     "execution_count": 15,
     "metadata": {},
     "output_type": "execute_result"
    }
   ],
   "source": [
    "example_sent"
   ]
  },
  {
   "cell_type": "code",
   "execution_count": 16,
   "metadata": {},
   "outputs": [
    {
     "name": "stdout",
     "output_type": "stream",
     "text": [
      "[(17, 23)]\n",
      "[(15, 16, 'Buyer'), (24, 64, 'Goods'), (65, 72, 'Money'), (73, 94, 'Seller')]\n"
     ]
    }
   ],
   "source": [
    "print(example_sent.Target)\n",
    "print(example_sent.FE[0])"
   ]
  },
  {
   "cell_type": "code",
   "execution_count": 17,
   "metadata": {},
   "outputs": [
    {
     "name": "stdout",
     "output_type": "stream",
     "text": [
      "Target: bought\n"
     ]
    }
   ],
   "source": [
    "print(\"Target:\", example_text[example_sent.Target[0][0]:example_sent.Target[0][1]])"
   ]
  },
  {
   "cell_type": "code",
   "execution_count": 18,
   "metadata": {},
   "outputs": [
    {
     "name": "stdout",
     "output_type": "stream",
     "text": [
      "Buyer: 'I'\n",
      "Goods: 'an old Harmony Sovereign acoustic guitar'\n",
      "Money: 'for £20'\n",
      "Seller: 'from an absolute prat'\n"
     ]
    }
   ],
   "source": [
    "for span_start, span_end, fe_name in example_sent.FE[0]:\n",
    "  print(f\"{fe_name}: '{example_text[span_start:span_end]}'\")"
   ]
  },
  {
   "cell_type": "markdown",
   "metadata": {},
   "source": [
    "## Most popular frames\n",
    "\n",
    "About 1k unique frames, most popular frame is Self_motion, with 6.4k sentences (3% of total)."
   ]
  },
  {
   "cell_type": "code",
   "execution_count": 19,
   "metadata": {},
   "outputs": [],
   "source": [
    "frame_count = defaultdict(int)\n",
    "for sent in fn_sents:\n",
    "  frame_count[sent.frame.name] += 1"
   ]
  },
  {
   "cell_type": "code",
   "execution_count": 20,
   "metadata": {},
   "outputs": [
    {
     "name": "stdout",
     "output_type": "stream",
     "text": [
      "Self_motion 6454\n",
      "Stimulus_focus 4058\n",
      "Emotion_directed 3391\n",
      "Clothing 3187\n",
      "Statement 3060\n",
      "Body_parts 2678\n",
      "Natural_features 2374\n",
      "Containers 2118\n",
      "Experiencer_obj 2072\n",
      "Judgment_communication 1990\n",
      "Food 1744\n",
      "Leadership 1631\n",
      "Experiencer_focus 1500\n",
      "Building_subparts 1467\n",
      "Aggregate 1455\n"
     ]
    }
   ],
   "source": [
    "for frame_name, count in sorted(frame_count.items(), key=lambda kv: kv[1], reverse=True)[:15]:\n",
    "  print(frame_name, count)"
   ]
  },
  {
   "cell_type": "code",
   "execution_count": 21,
   "metadata": {},
   "outputs": [
    {
     "data": {
      "text/plain": [
       "1014"
      ]
     },
     "execution_count": 21,
     "metadata": {},
     "output_type": "execute_result"
    }
   ],
   "source": [
    "len(frame_count)"
   ]
  },
  {
   "cell_type": "markdown",
   "metadata": {},
   "source": [
    "## Look at frame-to-frame relations"
   ]
  },
  {
   "cell_type": "code",
   "execution_count": 59,
   "metadata": {},
   "outputs": [],
   "source": [
    "def frame_parents(frame_name):\n",
    "  frame = fn.frames(frame_name)[0]\n",
    "  ret = []\n",
    "  for rel in frame.frameRelations:\n",
    "    if rel.get(\"Parent\") is not None and rel.Child.name == frame_name:\n",
    "      ret.append(rel.Parent.name)\n",
    "  return ret"
   ]
  },
  {
   "cell_type": "markdown",
   "metadata": {},
   "source": [
    "Commerce_buy frame inherits from Getting, and has 7 direct frame-to-frame relations.\n",
    "\n",
    "This can be explored interactively: https://framenet.icsi.berkeley.edu/fndrupal/FrameGrapher.\n",
    "\n",
    "Also has FE relations, eg, Getting.Recipient = Commerce_buy.Buyer."
   ]
  },
  {
   "cell_type": "code",
   "execution_count": 67,
   "metadata": {},
   "outputs": [
    {
     "data": {
      "text/plain": [
       "['Getting']"
      ]
     },
     "execution_count": 67,
     "metadata": {},
     "output_type": "execute_result"
    }
   ],
   "source": [
    "frame_parents(\"Commerce_buy\")"
   ]
  },
  {
   "cell_type": "code",
   "execution_count": 83,
   "metadata": {},
   "outputs": [
    {
     "data": {
      "text/plain": [
       "[<Parent=Commerce_buy -- Inheritance -> Child=Renting>,\n",
       " <Parent=Getting -- Inheritance -> Child=Commerce_buy>,\n",
       " <Parent=Commerce_buy -- Using -> Child=Importing>,\n",
       " <Parent=Commerce_buy -- Using -> Child=Shopping>,\n",
       " <Source=Commerce_buy -- ReFraming_Mapping -> Target=Renting>,\n",
       " <Source=Commerce_scenario -- ReFraming_Mapping -> Target=Commerce_buy>,\n",
       " <Neutral=Commerce_goods-transfer -- Perspective_on -> Perspectivized=Commerce_buy>]"
      ]
     },
     "execution_count": 83,
     "metadata": {},
     "output_type": "execute_result"
    }
   ],
   "source": [
    "list(fn.frames(\"Commerce_buy\")[0].frameRelations)"
   ]
  },
  {
   "cell_type": "code",
   "execution_count": 81,
   "metadata": {},
   "outputs": [
    {
     "data": {
      "text/plain": [
       "[<Parent=Getting.Manner -- Inheritance -> Child=Commerce_buy.Manner>,\n",
       " <Parent=Getting.Means -- Inheritance -> Child=Commerce_buy.Means>,\n",
       " <Parent=Getting.Place -- Inheritance -> Child=Commerce_buy.Place>,\n",
       " <Parent=Getting.Purpose -- Inheritance -> Child=Commerce_buy.Purpose>,\n",
       " <Parent=Getting.Explanation -- Inheritance -> Child=Commerce_buy.Explanation>,\n",
       " <Parent=Getting.Time -- Inheritance -> Child=Commerce_buy.Time>,\n",
       " <Parent=Getting.Source -- Inheritance -> Child=Commerce_buy.Seller>,\n",
       " <Parent=Getting.Theme -- Inheritance -> Child=Commerce_buy.Goods>,\n",
       " <Parent=Getting.Recipient -- Inheritance -> Child=Commerce_buy.Buyer>]"
      ]
     },
     "execution_count": 81,
     "metadata": {},
     "output_type": "execute_result"
    }
   ],
   "source": [
    "list(fn.frames(\"Commerce_buy\")[0].frameRelations[1].feRelations)"
   ]
  }
 ],
 "metadata": {
  "kernelspec": {
   "display_name": "Python 3",
   "language": "python",
   "name": "python3"
  },
  "language_info": {
   "codemirror_mode": {
    "name": "ipython",
    "version": 3
   },
   "file_extension": ".py",
   "mimetype": "text/x-python",
   "name": "python",
   "nbconvert_exporter": "python",
   "pygments_lexer": "ipython3",
   "version": "3.7.5"
  }
 },
 "nbformat": 4,
 "nbformat_minor": 4
}
