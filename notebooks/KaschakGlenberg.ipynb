{
 "cells": [
  {
   "cell_type": "markdown",
   "metadata": {},
   "source": [
    "# Kaschak and Glenberg\n",
    "\n",
    "Try to replicate experiment 2 from Kaschack and Glenberg (2000) in LMs."
   ]
  },
  {
   "cell_type": "code",
   "execution_count": 1,
   "metadata": {},
   "outputs": [],
   "source": [
    "import sys\n",
    "sys.path.append('../')\n",
    "\n",
    "import numpy as np\n",
    "import pandas as pd\n",
    "import matplotlib.pyplot as plt\n",
    "import seaborn as sns\n",
    "import tqdm\n",
    "import torch\n",
    "from collections import defaultdict\n",
    "import random\n",
    "import math\n",
    "import pickle\n",
    "import scipy\n",
    "\n",
    "import src.sent_encoder\n",
    "\n",
    "%matplotlib inline\n",
    "%load_ext autoreload\n",
    "%autoreload 2\n",
    "pd.options.display.max_columns = 100\n",
    "pd.options.display.max_rows = 100"
   ]
  },
  {
   "cell_type": "code",
   "execution_count": 2,
   "metadata": {},
   "outputs": [],
   "source": [
    "data = pd.read_csv(\"../data/kaschak-glenberg.csv\")"
   ]
  },
  {
   "cell_type": "code",
   "execution_count": 3,
   "metadata": {},
   "outputs": [],
   "source": [
    "with open(\"../data/bnc.pkl\", \"rb\") as f:\n",
    "  bnc_data = pickle.load(f)"
   ]
  },
  {
   "cell_type": "markdown",
   "metadata": {},
   "source": [
    "## Get contextual vectors for verbs"
   ]
  },
  {
   "cell_type": "code",
   "execution_count": 4,
   "metadata": {},
   "outputs": [],
   "source": [
    "LAYER = 11\n",
    "enc = src.sent_encoder.SentEncoder()"
   ]
  },
  {
   "cell_type": "code",
   "execution_count": null,
   "metadata": {},
   "outputs": [],
   "source": [
    "vecs_ditransitive = enc.sentence_vecs(data.sent_ditransitive.tolist(), verbs=data.verb.tolist())[:, LAYER]\n",
    "vecs_transitive = enc.sentence_vecs(data.sent_transitive.tolist(), verbs=data.verb.tolist())[:, LAYER]"
   ]
  },
  {
   "cell_type": "code",
   "execution_count": 6,
   "metadata": {},
   "outputs": [
    {
     "data": {
      "text/plain": [
       "(20, 768)"
      ]
     },
     "execution_count": 6,
     "metadata": {},
     "output_type": "execute_result"
    }
   ],
   "source": [
    "vecs_ditransitive.shape"
   ]
  },
  {
   "cell_type": "markdown",
   "metadata": {},
   "source": [
    "## Average vector for \"gave\""
   ]
  },
  {
   "cell_type": "code",
   "execution_count": 7,
   "metadata": {},
   "outputs": [],
   "source": [
    "gave_sentences = [s for s in bnc_data if \" gave \" in s]\n",
    "vecs_gave = enc.sentence_vecs(gave_sentences, verbs=['gave'] * len(gave_sentences))[:, LAYER]"
   ]
  },
  {
   "cell_type": "code",
   "execution_count": 8,
   "metadata": {},
   "outputs": [
    {
     "data": {
      "text/plain": [
       "(700, 768)"
      ]
     },
     "execution_count": 8,
     "metadata": {},
     "output_type": "execute_result"
    }
   ],
   "source": [
    "vecs_gave.shape"
   ]
  },
  {
   "cell_type": "code",
   "execution_count": 9,
   "metadata": {},
   "outputs": [],
   "source": [
    "vec_gave_avg = vecs_gave.mean(axis=0)"
   ]
  },
  {
   "cell_type": "code",
   "execution_count": 10,
   "metadata": {},
   "outputs": [
    {
     "data": {
      "text/plain": [
       "(768,)"
      ]
     },
     "execution_count": 10,
     "metadata": {},
     "output_type": "execute_result"
    }
   ],
   "source": [
    "vec_gave_avg.shape"
   ]
  },
  {
   "cell_type": "markdown",
   "metadata": {},
   "source": [
    "## Distance to \"gave\" for every contextual verb vector"
   ]
  },
  {
   "cell_type": "code",
   "execution_count": 11,
   "metadata": {},
   "outputs": [],
   "source": [
    "result_df = []\n",
    "for ix, row in data.iterrows():\n",
    "  result_df.append(pd.Series({\n",
    "    'sent_ditransitive': row.sent_ditransitive,\n",
    "    'sent_transitive': row.sent_transitive,\n",
    "    'verb': row.verb,\n",
    "    'gave_dist_ditransitive': np.linalg.norm(vec_gave_avg - vecs_ditransitive[ix]),\n",
    "    'gave_dist_transitive': np.linalg.norm(vec_gave_avg - vecs_transitive[ix]),\n",
    "    \n",
    "    # Similar results if we use cosine instead of euclidean distance.\n",
    "    #'gave_dist_ditransitive': scipy.spatial.distance.cosine(vec_gave_avg, vecs_ditransitive[ix]),\n",
    "    #'gave_dist_transitive': scipy.spatial.distance.cosine(vec_gave_avg, vecs_transitive[ix]),\n",
    "  }))\n",
    "\n",
    "result_df = pd.DataFrame(result_df)"
   ]
  },
  {
   "cell_type": "markdown",
   "metadata": {},
   "source": [
    "## Test significance\n",
    "\n",
    "Result: ditransitive is slightly closer to \"gave\" than transitive, but difference is not significant."
   ]
  },
  {
   "cell_type": "code",
   "execution_count": 13,
   "metadata": {},
   "outputs": [
    {
     "name": "stdout",
     "output_type": "stream",
     "text": [
      "Average gave_dist_transitive - gave_dist_ditransitive: 0.07953939437866211\n",
      "Number of sentences where ditransitive closer to vec(gave): 10\n",
      "Number of sentences where transitive closer to vec(gave): 10\n"
     ]
    }
   ],
   "source": [
    "gave_delta = result_df.gave_dist_transitive - result_df.gave_dist_ditransitive\n",
    "print(\"Average gave_dist_transitive - gave_dist_ditransitive:\", np.mean(gave_delta))\n",
    "print(\"Number of sentences where ditransitive closer to vec(gave):\", np.sum(gave_delta > 0))\n",
    "print(\"Number of sentences where transitive closer to vec(gave):\", np.sum(gave_delta < 0))"
   ]
  },
  {
   "cell_type": "code",
   "execution_count": 14,
   "metadata": {},
   "outputs": [
    {
     "data": {
      "image/png": "[encoded data removed]",
      "text/plain": [
       "<Figure size 432x288 with 1 Axes>"
      ]
     },
     "metadata": {
      "needs_background": "light"
     },
     "output_type": "display_data"
    }
   ],
   "source": [
    "sns.histplot(gave_delta, bins=10)\n",
    "plt.show()"
   ]
  },
  {
   "cell_type": "code",
   "execution_count": 15,
   "metadata": {},
   "outputs": [
    {
     "data": {
      "text/plain": [
       "Ttest_relResult(statistic=0.49259415490059427, pvalue=0.6279434903446379)"
      ]
     },
     "execution_count": 15,
     "metadata": {},
     "output_type": "execute_result"
    }
   ],
   "source": [
    "scipy.stats.ttest_rel(result_df.gave_dist_transitive, result_df.gave_dist_ditransitive)"
   ]
  }
 ],
 "metadata": {
  "kernelspec": {
   "display_name": "Python 3",
   "language": "python",
   "name": "python3"
  },
  "language_info": {
   "codemirror_mode": {
    "name": "ipython",
    "version": 3
   },
   "file_extension": ".py",
   "mimetype": "text/x-python",
   "name": "python",
   "nbconvert_exporter": "python",
   "pygments_lexer": "ipython3",
   "version": "3.7.5"
  }
 },
 "nbformat": 4,
 "nbformat_minor": 4
}
