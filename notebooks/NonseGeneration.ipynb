{
 "cells": [
  {
   "cell_type": "markdown",
   "metadata": {},
   "source": [
    "# Nonse Sentence Generation\n",
    "\n",
    "Generate nonsense sentences similar to Johnson and Goldberg (2013)"
   ]
  },
  {
   "cell_type": "code",
   "execution_count": 1,
   "metadata": {},
   "outputs": [],
   "source": [
    "import sys\n",
    "sys.path.append('../')\n",
    "\n",
    "import numpy as np\n",
    "import pandas as pd\n",
    "import matplotlib.pyplot as plt\n",
    "import seaborn as sns\n",
    "import tqdm\n",
    "import torch\n",
    "from collections import defaultdict\n",
    "import random\n",
    "import math\n",
    "import pickle\n",
    "import nltk\n",
    "from nltk.corpus import treebank\n",
    "import scipy\n",
    "\n",
    "import src.sent_encoder\n",
    "\n",
    "%matplotlib inline\n",
    "%load_ext autoreload\n",
    "%autoreload 2\n",
    "pd.options.display.max_columns = 100\n",
    "pd.options.display.max_rows = 100"
   ]
  },
  {
   "cell_type": "markdown",
   "metadata": {},
   "source": [
    "## Obtain list of singular nouns, adjectives, past-tense verbs"
   ]
  },
  {
   "cell_type": "code",
   "execution_count": 2,
   "metadata": {},
   "outputs": [],
   "source": [
    "penn = nltk.corpus.reader.bracket_parse.BracketParseCorpusReader(\"../data/PTB3\", \".*\\.tree\")"
   ]
  },
  {
   "cell_type": "code",
   "execution_count": 3,
   "metadata": {},
   "outputs": [
    {
     "data": {
      "text/plain": [
       "49207"
      ]
     },
     "execution_count": 3,
     "metadata": {},
     "output_type": "execute_result"
    }
   ],
   "source": [
    "len(penn.parsed_sents())"
   ]
  },
  {
   "cell_type": "code",
   "execution_count": 4,
   "metadata": {},
   "outputs": [],
   "source": [
    "singular_nouns = defaultdict(int)\n",
    "adjectives = defaultdict(int)\n",
    "past_verbs = defaultdict(int)\n",
    "\n",
    "for tree in penn.parsed_sents():\n",
    "  for leaf in tree.subtrees(lambda t: t.height() == 2):\n",
    "    if leaf.label() == \"NN\":\n",
    "      singular_nouns[leaf[0].lower()] += 1\n",
    "    if leaf.label() == \"JJ\":\n",
    "      adjectives[leaf[0].lower()] += 1\n",
    "    if leaf.label() == \"VBD\":\n",
    "      past_verbs[leaf[0].lower()] += 1"
   ]
  },
  {
   "cell_type": "code",
   "execution_count": 5,
   "metadata": {},
   "outputs": [],
   "source": [
    "# Filter out words that are too low-frequency\n",
    "singular_nouns = dict(filter(lambda w: w[1] >= 10, singular_nouns.items()))\n",
    "adjectives = dict(filter(lambda w: w[1] >= 10, adjectives.items()))\n",
    "past_verbs = dict(filter(lambda w: w[1] >= 10, past_verbs.items()))"
   ]
  },
  {
   "cell_type": "code",
   "execution_count": 6,
   "metadata": {},
   "outputs": [
    {
     "name": "stdout",
     "output_type": "stream",
     "text": [
      "1996\n",
      "843\n",
      "350\n"
     ]
    }
   ],
   "source": [
    "singular_nouns = list(sorted(singular_nouns))\n",
    "adjectives = list(sorted(adjectives))\n",
    "past_verbs = list(sorted(past_verbs))\n",
    "\n",
    "print(len(singular_nouns))\n",
    "print(len(adjectives))\n",
    "print(len(past_verbs))"
   ]
  },
  {
   "cell_type": "markdown",
   "metadata": {},
   "source": [
    "## Get contextual vecs for gave/made/put/took"
   ]
  },
  {
   "cell_type": "code",
   "execution_count": 7,
   "metadata": {},
   "outputs": [],
   "source": [
    "with open(\"../data/bnc.pkl\", \"rb\") as f:\n",
    "  bnc_data = pickle.load(f)"
   ]
  },
  {
   "cell_type": "code",
   "execution_count": 8,
   "metadata": {},
   "outputs": [],
   "source": [
    "LAYER = 11\n",
    "enc = src.sent_encoder.SentEncoder()"
   ]
  },
  {
   "cell_type": "code",
   "execution_count": 9,
   "metadata": {},
   "outputs": [],
   "source": [
    "prototype_vecs = {\n",
    "  'gave': enc.avg_contextual_word_vec(bnc_data, \"gave\")[LAYER],\n",
    "  'made': enc.avg_contextual_word_vec(bnc_data, \"made\")[LAYER],\n",
    "  'put': enc.avg_contextual_word_vec(bnc_data, \"put\")[LAYER],\n",
    "  'took': enc.avg_contextual_word_vec(bnc_data, \"took\")[LAYER],\n",
    "  #'handed': enc.avg_contextual_word_vec(bnc_data, \"handed\")[LAYER],\n",
    "  #'turned': enc.avg_contextual_word_vec(bnc_data, \"turned\")[LAYER],\n",
    "  #'placed': enc.avg_contextual_word_vec(bnc_data, \"placed\")[LAYER],\n",
    "  #'removed': enc.avg_contextual_word_vec(bnc_data, \"removed\")[LAYER],\n",
    "}"
   ]
  },
  {
   "cell_type": "markdown",
   "metadata": {},
   "source": [
    "## Generate sentences of each type"
   ]
  },
  {
   "cell_type": "code",
   "execution_count": 10,
   "metadata": {},
   "outputs": [],
   "source": [
    "random.seed(12345)\n",
    "NUM_SENTENCES_PER_CXN = 5000\n",
    "templated_sentences = defaultdict(list)\n",
    "\n",
    "# Ditransitive: S/he nonseV-ed him/her the nonseN\n",
    "for i in range(NUM_SENTENCES_PER_CXN):\n",
    "  pronoun1 = random.choice([\"He\", \"She\"])\n",
    "  pronoun2 = random.choice([\"him\", \"her\"])\n",
    "  nonse_verb = random.choice(past_verbs)\n",
    "  nonse_noun = random.choice(singular_nouns)\n",
    "  templated_sentences['ditransitive'].append((\n",
    "    f\"{pronoun1} {nonse_verb} {pronoun2} the {nonse_noun}.\",\n",
    "    nonse_verb\n",
    "  ))\n",
    "  \n",
    "# Resultative: S/he nonseV-ed it nonseAdj.\n",
    "for i in range(NUM_SENTENCES_PER_CXN):\n",
    "  pronoun1 = random.choice([\"He\", \"She\"])\n",
    "  nonse_verb = random.choice(past_verbs)\n",
    "  nonse_adj = random.choice(adjectives)\n",
    "  templated_sentences['resultative'].append((\n",
    "    f\"{pronoun1} {nonse_verb} it {nonse_adj}.\",\n",
    "    nonse_verb\n",
    "  ))\n",
    "  \n",
    "# Caused-motion: S/he nonseV-ed it on the nonseN.\n",
    "for i in range(NUM_SENTENCES_PER_CXN):\n",
    "  pronoun1 = random.choice([\"He\", \"She\"])\n",
    "  nonse_verb = random.choice(past_verbs)\n",
    "  nonse_noun = random.choice(singular_nouns)\n",
    "  templated_sentences['caused-motion'].append((\n",
    "    f\"{pronoun1} {nonse_verb} it on the {nonse_noun}.\",\n",
    "    nonse_verb\n",
    "  ))\n",
    "  \n",
    "# Removal: S/he nonseV-ed it from him/her.\n",
    "for i in range(NUM_SENTENCES_PER_CXN):\n",
    "  pronoun1 = random.choice([\"He\", \"She\"])\n",
    "  pronoun2 = random.choice([\"him\", \"her\"])\n",
    "  nonse_verb = random.choice(past_verbs)\n",
    "  templated_sentences['removal'].append((\n",
    "    f\"{pronoun1} {nonse_verb} it from {pronoun2}.\",\n",
    "    nonse_verb\n",
    "  ))"
   ]
  },
  {
   "cell_type": "markdown",
   "metadata": {},
   "source": [
    "## Get distances from cxn-verbs to proto-verbs"
   ]
  },
  {
   "cell_type": "code",
   "execution_count": 11,
   "metadata": {},
   "outputs": [],
   "source": [
    "def is_congruent(cxn, verb):\n",
    "  if cxn == 'ditransitive':\n",
    "    return verb in ['gave', 'handed']\n",
    "  if cxn == 'resultative':\n",
    "    return verb in ['made', 'turned']\n",
    "  if cxn == 'caused-motion':\n",
    "    return verb in ['put', 'placed']\n",
    "  if cxn == 'removal':\n",
    "    return verb in ['took', 'removed']\n",
    "  return False"
   ]
  },
  {
   "cell_type": "code",
   "execution_count": 12,
   "metadata": {},
   "outputs": [],
   "source": [
    "verb_dist_results = []\n",
    "\n",
    "for cxn_type, cxn_sentences_and_verbs in templated_sentences.items():\n",
    "  cxn_sentences = [t[0] for t in cxn_sentences_and_verbs]\n",
    "  cxn_verbs = [t[1] for t in cxn_sentences_and_verbs]\n",
    "  cxn_verb_vecs = enc.sentence_vecs(cxn_sentences, cxn_verbs)[:, LAYER]\n",
    "  \n",
    "  for proto_verb, proto_verb_vec in prototype_vecs.items():\n",
    "    for i, cxn_verb_vec in enumerate(cxn_verb_vecs):\n",
    "      dist = np.linalg.norm(proto_verb_vec - cxn_verb_vec)\n",
    "      verb_dist_results.append(pd.Series({\n",
    "        'cxn_sentence': cxn_sentences[i],\n",
    "        'cxn': cxn_type,\n",
    "        'verb': proto_verb,\n",
    "        'congruent': is_congruent(cxn_type, proto_verb),\n",
    "        'dist': dist,\n",
    "      }))\n",
    "      \n",
    "verb_dist_results = pd.DataFrame(verb_dist_results)"
   ]
  },
  {
   "cell_type": "markdown",
   "metadata": {},
   "source": [
    "## Summarize results"
   ]
  },
  {
   "cell_type": "code",
   "execution_count": 13,
   "metadata": {},
   "outputs": [
    {
     "name": "stdout",
     "output_type": "stream",
     "text": [
      "ditransitive gave 11.89890238647461 1.1858078835315617\n",
      "resultative gave 11.92425343208313 1.2382925883849938\n",
      "caused-motion gave 11.691192469120026 1.216427248591975\n",
      "removal gave 11.74043079328537 1.4384559320850094\n",
      "ditransitive made 12.295198278522491 1.2375450478885313\n",
      "resultative made 11.700742177677155 1.170060562745414\n",
      "caused-motion made 11.593213554191589 1.1080229723329489\n",
      "removal made 11.954456674575805 1.375468496063373\n",
      "ditransitive put 12.56705058412552 1.2184826145659435\n",
      "resultative put 11.867872425460815 1.3231187354543499\n",
      "caused-motion put 11.394599109172821 1.0637222877342791\n",
      "removal put 11.936269455337525 1.318441316306424\n",
      "ditransitive took 12.32781259689331 1.2393412236182806\n",
      "resultative took 11.863502470588685 1.2378532009659635\n",
      "caused-motion took 11.599411346721649 1.1931807748120369\n",
      "removal took 11.516971401119232 1.200000629549786\n"
     ]
    }
   ],
   "source": [
    "for verb in prototype_vecs.keys():\n",
    "  for cxn in templated_sentences.keys():\n",
    "    m = verb_dist_results[(verb_dist_results.cxn == cxn) & (verb_dist_results.verb == verb)].dist.mean()\n",
    "    sd = verb_dist_results[(verb_dist_results.cxn == cxn) & (verb_dist_results.verb == verb)].dist.std()\n",
    "    print(cxn, verb, float(m), float(sd))"
   ]
  },
  {
   "cell_type": "code",
   "execution_count": 14,
   "metadata": {},
   "outputs": [
    {
     "name": "stdout",
     "output_type": "stream",
     "text": [
      "Mean congruent: 11.627803768610955\n",
      "Std congruent: 1.1716843222011528\n",
      "Mean incongruent: 11.94672200674216\n",
      "Std incongruent: 1.2978878691076732\n"
     ]
    }
   ],
   "source": [
    "print('Mean congruent:', verb_dist_results[verb_dist_results.congruent].dist.mean())\n",
    "print('Std congruent:', verb_dist_results[verb_dist_results.congruent].dist.std())\n",
    "print('Mean incongruent:', verb_dist_results[~verb_dist_results.congruent].dist.mean())\n",
    "print('Std incongruent:', verb_dist_results[~verb_dist_results.congruent].dist.std())"
   ]
  }
 ],
 "metadata": {
  "kernelspec": {
   "display_name": "Python 3",
   "language": "python",
   "name": "python3"
  },
  "language_info": {
   "codemirror_mode": {
    "name": "ipython",
    "version": 3
   },
   "file_extension": ".py",
   "mimetype": "text/x-python",
   "name": "python",
   "nbconvert_exporter": "python",
   "pygments_lexer": "ipython3",
   "version": "3.7.5"
  }
 },
 "nbformat": 4,
 "nbformat_minor": 4
}
