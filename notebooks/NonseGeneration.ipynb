{
 "cells": [
  {
   "cell_type": "markdown",
   "metadata": {},
   "source": [
    "# Nonse Sentence Generation\n",
    "\n",
    "Generate nonsense sentences similar to Johnson and Goldberg (2013)"
   ]
  },
  {
   "cell_type": "code",
   "execution_count": 1,
   "metadata": {},
   "outputs": [],
   "source": [
    "import numpy as np\n",
    "import pandas as pd\n",
    "import matplotlib.pyplot as plt\n",
    "import seaborn as sns\n",
    "import tqdm\n",
    "import torch\n",
    "from collections import defaultdict\n",
    "import random\n",
    "import math\n",
    "import pickle\n",
    "import nltk\n",
    "from nltk.corpus import treebank\n",
    "\n",
    "%matplotlib inline\n",
    "%load_ext autoreload\n",
    "%autoreload 2\n",
    "pd.options.display.max_columns = 100\n",
    "pd.options.display.max_rows = 100"
   ]
  },
  {
   "cell_type": "markdown",
   "metadata": {},
   "source": [
    "## Obtain list of singular nouns, adjectives, past-tense verbs"
   ]
  },
  {
   "cell_type": "code",
   "execution_count": 2,
   "metadata": {},
   "outputs": [],
   "source": [
    "penn = nltk.corpus.reader.bracket_parse.BracketParseCorpusReader(\"../data/PTB3\", \".*\\.tree\")"
   ]
  },
  {
   "cell_type": "code",
   "execution_count": 3,
   "metadata": {},
   "outputs": [
    {
     "data": {
      "text/plain": [
       "49207"
      ]
     },
     "execution_count": 3,
     "metadata": {},
     "output_type": "execute_result"
    }
   ],
   "source": [
    "len(penn.parsed_sents())"
   ]
  },
  {
   "cell_type": "code",
   "execution_count": 4,
   "metadata": {},
   "outputs": [],
   "source": [
    "singular_nouns = set()\n",
    "adjectives = set()\n",
    "past_verbs = set()\n",
    "\n",
    "for tree in penn.parsed_sents():\n",
    "  for leaf in tree.subtrees(lambda t: t.height() == 2):\n",
    "    if leaf.label() == \"NN\":\n",
    "      singular_nouns.add(leaf[0].lower())\n",
    "    if leaf.label() == \"JJ\":\n",
    "      adjectives.add(leaf[0].lower())\n",
    "    if leaf.label() == \"VBD\":\n",
    "      past_verbs.add(leaf[0].lower())"
   ]
  },
  {
   "cell_type": "code",
   "execution_count": 5,
   "metadata": {},
   "outputs": [
    {
     "name": "stdout",
     "output_type": "stream",
     "text": [
      "8444\n",
      "5163\n",
      "1678\n"
     ]
    }
   ],
   "source": [
    "print(len(singular_nouns))\n",
    "print(len(adjectives))\n",
    "print(len(past_verbs))"
   ]
  }
 ],
 "metadata": {
  "kernelspec": {
   "display_name": "Python 3",
   "language": "python",
   "name": "python3"
  },
  "language_info": {
   "codemirror_mode": {
    "name": "ipython",
    "version": 3
   },
   "file_extension": ".py",
   "mimetype": "text/x-python",
   "name": "python",
   "nbconvert_exporter": "python",
   "pygments_lexer": "ipython3",
   "version": "3.7.5"
  }
 },
 "nbformat": 4,
 "nbformat_minor": 4
}
