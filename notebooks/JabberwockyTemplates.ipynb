{
 "cells": [
  {
   "cell_type": "markdown",
   "metadata": {},
   "source": [
    "# Jabberwocky Templates\n",
    "\n",
    "Generate Jabberwocky sentences similar to Johnson and Goldberg (2013)"
   ]
  },
  {
   "cell_type": "code",
   "execution_count": 1,
   "metadata": {},
   "outputs": [],
   "source": [
    "import pandas as pd\n",
    "from collections import defaultdict\n",
    "import random\n",
    "import nltk\n",
    "from nltk.corpus import treebank\n",
    "\n",
    "%load_ext autoreload\n",
    "%autoreload 2\n",
    "pd.options.display.max_columns = 100\n",
    "pd.options.display.max_rows = 100"
   ]
  },
  {
   "cell_type": "markdown",
   "metadata": {},
   "source": [
    "## Obtain list of singular nouns, adjectives, past-tense verbs"
   ]
  },
  {
   "cell_type": "code",
   "execution_count": 2,
   "metadata": {},
   "outputs": [],
   "source": [
    "penn = nltk.corpus.reader.bracket_parse.BracketParseCorpusReader(\"../data/PTB3\", \".*\\.tree\")"
   ]
  },
  {
   "cell_type": "code",
   "execution_count": 3,
   "metadata": {},
   "outputs": [
    {
     "data": {
      "text/plain": [
       "49207"
      ]
     },
     "execution_count": 3,
     "metadata": {},
     "output_type": "execute_result"
    }
   ],
   "source": [
    "len(penn.parsed_sents())"
   ]
  },
  {
   "cell_type": "code",
   "execution_count": 4,
   "metadata": {},
   "outputs": [],
   "source": [
    "singular_nouns = defaultdict(int)\n",
    "adjectives = defaultdict(int)\n",
    "past_verbs = defaultdict(int)\n",
    "\n",
    "for tree in penn.parsed_sents():\n",
    "  for leaf in tree.subtrees(lambda t: t.height() == 2):\n",
    "    if leaf.label() == \"NN\":\n",
    "      singular_nouns[leaf[0].lower()] += 1\n",
    "    if leaf.label() == \"JJ\":\n",
    "      adjectives[leaf[0].lower()] += 1\n",
    "    if leaf.label() == \"VBD\":\n",
    "      past_verbs[leaf[0].lower()] += 1"
   ]
  },
  {
   "cell_type": "code",
   "execution_count": 5,
   "metadata": {},
   "outputs": [],
   "source": [
    "# Filter out words that are too low-frequency\n",
    "singular_nouns = dict(filter(lambda w: w[1] >= 10, singular_nouns.items()))\n",
    "adjectives = dict(filter(lambda w: w[1] >= 10, adjectives.items()))\n",
    "past_verbs = dict(filter(lambda w: w[1] >= 10, past_verbs.items()))"
   ]
  },
  {
   "cell_type": "code",
   "execution_count": 6,
   "metadata": {},
   "outputs": [
    {
     "name": "stdout",
     "output_type": "stream",
     "text": [
      "1996\n",
      "843\n",
      "350\n"
     ]
    }
   ],
   "source": [
    "singular_nouns = list(sorted(singular_nouns))\n",
    "adjectives = list(sorted(adjectives))\n",
    "past_verbs = list(sorted(past_verbs))\n",
    "\n",
    "print(len(singular_nouns))\n",
    "print(len(adjectives))\n",
    "print(len(past_verbs))"
   ]
  },
  {
   "cell_type": "markdown",
   "metadata": {},
   "source": [
    "## Generate sentences of each type"
   ]
  },
  {
   "cell_type": "code",
   "execution_count": 7,
   "metadata": {},
   "outputs": [],
   "source": [
    "random.seed(12345)\n",
    "NUM_SENTENCES_PER_CXN = 5000\n",
    "templated_sentences = []\n",
    "\n",
    "# Ditransitive: S/he nonseV-ed him/her the nonseN\n",
    "for i in range(NUM_SENTENCES_PER_CXN):\n",
    "  pronoun1 = random.choice([\"He\", \"She\"])\n",
    "  pronoun2 = random.choice([\"him\", \"her\"])\n",
    "  nonse_verb = random.choice(past_verbs)\n",
    "  nonse_noun = random.choice(singular_nouns)\n",
    "  templated_sentences.append(pd.Series({\n",
    "    'construction': 'ditransitive',\n",
    "    'sentence': f\"{pronoun1} {nonse_verb} {pronoun2} the {nonse_noun}.\",\n",
    "    'nonse_verb': nonse_verb,\n",
    "  }))\n",
    "  \n",
    "# Resultative: S/he nonseV-ed it nonseAdj.\n",
    "for i in range(NUM_SENTENCES_PER_CXN):\n",
    "  pronoun1 = random.choice([\"He\", \"She\"])\n",
    "  nonse_verb = random.choice(past_verbs)\n",
    "  nonse_adj = random.choice(adjectives)\n",
    "  templated_sentences.append(pd.Series({\n",
    "    'construction': 'resultative',\n",
    "    'sentence': f\"{pronoun1} {nonse_verb} it {nonse_adj}.\",\n",
    "    'nonse_verb': nonse_verb,\n",
    "  }))\n",
    "  \n",
    "# Caused-motion: S/he nonseV-ed it on the nonseN.\n",
    "for i in range(NUM_SENTENCES_PER_CXN):\n",
    "  pronoun1 = random.choice([\"He\", \"She\"])\n",
    "  nonse_verb = random.choice(past_verbs)\n",
    "  nonse_noun = random.choice(singular_nouns)\n",
    "  templated_sentences.append(pd.Series({\n",
    "    'construction': 'caused-motion',\n",
    "    'sentence': f\"{pronoun1} {nonse_verb} it on the {nonse_noun}.\",\n",
    "    'nonse_verb': nonse_verb,\n",
    "  }))\n",
    "  \n",
    "# Removal: S/he nonseV-ed it from him/her.\n",
    "for i in range(NUM_SENTENCES_PER_CXN):\n",
    "  pronoun1 = random.choice([\"He\", \"She\"])\n",
    "  pronoun2 = random.choice([\"him\", \"her\"])\n",
    "  nonse_verb = random.choice(past_verbs)\n",
    "  templated_sentences.append(pd.Series({\n",
    "    'construction': 'removal',\n",
    "    'sentence': f\"{pronoun1} {nonse_verb} it from {pronoun2}.\",\n",
    "    'nonse_verb': nonse_verb,\n",
    "  }))\n",
    "\n",
    "templated_sentences = pd.DataFrame(templated_sentences)"
   ]
  },
  {
   "cell_type": "code",
   "execution_count": 8,
   "metadata": {},
   "outputs": [],
   "source": [
    "templated_sentences.to_csv(\"jabberwocky-templated.csv\", index=False)"
   ]
  }
 ],
 "metadata": {
  "kernelspec": {
   "display_name": "Python 3",
   "language": "python",
   "name": "python3"
  },
  "language_info": {
   "codemirror_mode": {
    "name": "ipython",
    "version": 3
   },
   "file_extension": ".py",
   "mimetype": "text/x-python",
   "name": "python",
   "nbconvert_exporter": "python",
   "pygments_lexer": "ipython3",
   "version": "3.7.5"
  }
 },
 "nbformat": 4,
 "nbformat_minor": 4
}
