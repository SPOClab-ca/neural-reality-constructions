{
 "cells": [
  {
   "cell_type": "markdown",
   "id": "supposed-regulation",
   "metadata": {},
   "source": [
    "# Distance to desired clustering\n",
    "1. Run a contingency matrix.  \n",
    "2. Linear sum assignment.   \n",
    "3. Sum up the off-diagonal occurrences.  "
   ]
  },
  {
   "cell_type": "code",
   "execution_count": 1,
   "id": "arbitrary-colombia",
   "metadata": {},
   "outputs": [],
   "source": [
    "from sklearn.metrics.cluster import contingency_matrix\n",
    "from scipy.optimize import linear_sum_assignment\n",
    "import numpy as np"
   ]
  },
  {
   "cell_type": "code",
   "execution_count": 2,
   "id": "colonial-credits",
   "metadata": {},
   "outputs": [],
   "source": [
    "def distance_to_clustering(ypred, ytrue, verbose=False):\n",
    "    cm = contingency_matrix(ypred, ytrue)\n",
    "    row_ind, col_ind = linear_sum_assignment(-cm)\n",
    "    if verbose:\n",
    "        print(cm)\n",
    "        print(row_ind, col_ind)\n",
    "    return cm.sum() - cm[row_ind, col_ind].sum()"
   ]
  },
  {
   "cell_type": "code",
   "execution_count": 3,
   "id": "coordinate-daughter",
   "metadata": {},
   "outputs": [
    {
     "name": "stdout",
     "output_type": "stream",
     "text": [
      "[[2 0 0 0]\n",
      " [0 1 0 0]\n",
      " [0 0 0 1]\n",
      " [0 0 1 0]]\n",
      "[0 1 2 3] [0 1 3 2]\n"
     ]
    },
    {
     "data": {
      "text/plain": [
       "0"
      ]
     },
     "execution_count": 3,
     "metadata": {},
     "output_type": "execute_result"
    }
   ],
   "source": [
    "ypred = ['a', 'b', 'd', 'c', 'a']\n",
    "ytrue = ['a', 'b', 'c', 'd', 'a']\n",
    "distance_to_clustering(ypred, ytrue, True)"
   ]
  },
  {
   "cell_type": "code",
   "execution_count": 4,
   "id": "affecting-command",
   "metadata": {},
   "outputs": [
    {
     "name": "stdout",
     "output_type": "stream",
     "text": [
      "[[1 0 0]\n",
      " [1 1 0]\n",
      " [0 0 1]]\n",
      "[0 1 2] [0 1 2]\n"
     ]
    },
    {
     "data": {
      "text/plain": [
       "1"
      ]
     },
     "execution_count": 4,
     "metadata": {},
     "output_type": "execute_result"
    }
   ],
   "source": [
    "ypred = ['a', 'b', 'b', 'c']\n",
    "ytrue = ['a', 'a', 'b', 'c']\n",
    "distance_to_clustering(ypred, ytrue, True)"
   ]
  },
  {
   "cell_type": "code",
   "execution_count": 5,
   "id": "tracked-anime",
   "metadata": {},
   "outputs": [
    {
     "name": "stdout",
     "output_type": "stream",
     "text": [
      "[[1 0 0]\n",
      " [1 1 1]\n",
      " [0 0 1]]\n",
      "[0 1 2] [0 1 2]\n"
     ]
    },
    {
     "data": {
      "text/plain": [
       "2"
      ]
     },
     "execution_count": 5,
     "metadata": {},
     "output_type": "execute_result"
    }
   ],
   "source": [
    "ypred = ['a', 'b', 'b', 'b', 'c']\n",
    "ytrue = ['a', 'a', 'b', 'c', 'c']\n",
    "distance_to_clustering(ypred, ytrue, True)"
   ]
  },
  {
   "cell_type": "code",
   "execution_count": 6,
   "id": "residential-agenda",
   "metadata": {},
   "outputs": [
    {
     "name": "stdout",
     "output_type": "stream",
     "text": [
      "[[0 0 1]\n",
      " [1 1 1]\n",
      " [1 0 0]]\n",
      "[0 1 2] [2 1 0]\n"
     ]
    },
    {
     "data": {
      "text/plain": [
       "2"
      ]
     },
     "execution_count": 6,
     "metadata": {},
     "output_type": "execute_result"
    }
   ],
   "source": [
    "ypred = ['c', 'b', 'b', 'b', 'a']\n",
    "ytrue = ['a', 'a', 'b', 'c', 'c']\n",
    "distance_to_clustering(ypred, ytrue, True)"
   ]
  },
  {
   "cell_type": "code",
   "execution_count": 7,
   "id": "tracked-punishment",
   "metadata": {},
   "outputs": [
    {
     "name": "stdout",
     "output_type": "stream",
     "text": [
      "[[1 1 0]\n",
      " [0 1 1]\n",
      " [0 0 1]]\n",
      "[0 1 2] [0 1 2]\n"
     ]
    },
    {
     "data": {
      "text/plain": [
       "2"
      ]
     },
     "execution_count": 7,
     "metadata": {},
     "output_type": "execute_result"
    }
   ],
   "source": [
    "ypred = ['a', 'a', 'b', 'b', 'c']\n",
    "ytrue = ['a', 'b', 'b', 'c', 'c']\n",
    "distance_to_clustering(ypred, ytrue, True)"
   ]
  },
  {
   "cell_type": "code",
   "execution_count": null,
   "id": "copyrighted-scratch",
   "metadata": {},
   "outputs": [],
   "source": []
  }
 ],
 "metadata": {
  "kernelspec": {
   "display_name": "Python 3",
   "language": "python",
   "name": "python3"
  },
  "language_info": {
   "codemirror_mode": {
    "name": "ipython",
    "version": 3
   },
   "file_extension": ".py",
   "mimetype": "text/x-python",
   "name": "python",
   "nbconvert_exporter": "python",
   "pygments_lexer": "ipython3",
   "version": "3.9.2"
  }
 },
 "nbformat": 4,
 "nbformat_minor": 5
}
