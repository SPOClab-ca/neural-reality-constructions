{
 "cells": [
  {
   "cell_type": "markdown",
   "id": "vertical-devon",
   "metadata": {},
   "source": [
    "# Dendrogram\n",
    "To illustrate the extent of clustering. E.g., Figure 2 of [this paper](http://citeseerx.ist.psu.edu/viewdoc/download?doi=10.1.1.80.717&rep=rep1&type=pdf)  "
   ]
  },
  {
   "cell_type": "code",
   "execution_count": 1,
   "id": "biblical-speaking",
   "metadata": {},
   "outputs": [],
   "source": [
    "import pandas as pd\n",
    "import numpy as np\n",
    "from sklearn.cluster import AgglomerativeClustering\n",
    "import matplotlib.pyplot as plt\n",
    "from scipy.cluster.hierarchy import dendrogram\n",
    "%matplotlib inline\n",
    "import torch\n",
    "from tqdm import tqdm\n",
    "from transformers import AutoModel, AutoTokenizer"
   ]
  },
  {
   "cell_type": "code",
   "execution_count": 2,
   "id": "given-nutrition",
   "metadata": {},
   "outputs": [
    {
     "name": "stdout",
     "output_type": "stream",
     "text": [
      "(1600, 4)\n"
     ]
    },
    {
     "data": {
      "text/html": [
       "<div>\n",
       "<style scoped>\n",
       "    .dataframe tbody tr th:only-of-type {\n",
       "        vertical-align: middle;\n",
       "    }\n",
       "\n",
       "    .dataframe tbody tr th {\n",
       "        vertical-align: top;\n",
       "    }\n",
       "\n",
       "    .dataframe thead th {\n",
       "        text-align: right;\n",
       "    }\n",
       "</style>\n",
       "<table border=\"1\" class=\"dataframe\">\n",
       "  <thead>\n",
       "    <tr style=\"text-align: right;\">\n",
       "      <th></th>\n",
       "      <th>group</th>\n",
       "      <th>sentence</th>\n",
       "      <th>verb</th>\n",
       "      <th>construction</th>\n",
       "    </tr>\n",
       "  </thead>\n",
       "  <tbody>\n",
       "    <tr>\n",
       "      <th>0</th>\n",
       "      <td>0</td>\n",
       "      <td>Bill tore the wall.</td>\n",
       "      <td>tore</td>\n",
       "      <td>transitive</td>\n",
       "    </tr>\n",
       "    <tr>\n",
       "      <th>1</th>\n",
       "      <td>0</td>\n",
       "      <td>Frank punched the door.</td>\n",
       "      <td>punched</td>\n",
       "      <td>transitive</td>\n",
       "    </tr>\n",
       "    <tr>\n",
       "      <th>2</th>\n",
       "      <td>0</td>\n",
       "      <td>Jack hit the fridge.</td>\n",
       "      <td>hit</td>\n",
       "      <td>transitive</td>\n",
       "    </tr>\n",
       "    <tr>\n",
       "      <th>3</th>\n",
       "      <td>0</td>\n",
       "      <td>Steve pulled the window.</td>\n",
       "      <td>pulled</td>\n",
       "      <td>transitive</td>\n",
       "    </tr>\n",
       "    <tr>\n",
       "      <th>4</th>\n",
       "      <td>0</td>\n",
       "      <td>Adam tore George the bread.</td>\n",
       "      <td>tore</td>\n",
       "      <td>ditransitive</td>\n",
       "    </tr>\n",
       "  </tbody>\n",
       "</table>\n",
       "</div>"
      ],
      "text/plain": [
       "   group                     sentence     verb  construction\n",
       "0      0          Bill tore the wall.     tore    transitive\n",
       "1      0      Frank punched the door.  punched    transitive\n",
       "2      0         Jack hit the fridge.      hit    transitive\n",
       "3      0     Steve pulled the window.   pulled    transitive\n",
       "4      0  Adam tore George the bread.     tore  ditransitive"
      ]
     },
     "execution_count": 2,
     "metadata": {},
     "output_type": "execute_result"
    }
   ],
   "source": [
    "df = pd.read_csv(\"../notebooks/templated_stimuli.csv\")\n",
    "print(df.shape)\n",
    "df.head()"
   ]
  },
  {
   "cell_type": "code",
   "execution_count": 3,
   "id": "dental-basic",
   "metadata": {},
   "outputs": [
    {
     "name": "stderr",
     "output_type": "stream",
     "text": [
      "Some weights of the model checkpoint at bert-base-cased were not used when initializing BertModel: ['cls.seq_relationship.bias', 'cls.predictions.transform.dense.bias', 'cls.predictions.transform.LayerNorm.bias', 'cls.predictions.bias', 'cls.predictions.decoder.weight', 'cls.predictions.transform.dense.weight', 'cls.predictions.transform.LayerNorm.weight', 'cls.seq_relationship.weight']\n",
      "- This IS expected if you are initializing BertModel from the checkpoint of a model trained on another task or with another architecture (e.g. initializing a BertForSequenceClassification model from a BertForPreTraining model).\n",
      "- This IS NOT expected if you are initializing BertModel from the checkpoint of a model that you expect to be exactly identical (initializing a BertForSequenceClassification model from a BertForSequenceClassification model).\n"
     ]
    }
   ],
   "source": [
    "modelname = \"bert-base-cased\"\n",
    "encoder = AutoModel.from_pretrained(modelname)\n",
    "tokenizer = AutoTokenizer.from_pretrained(modelname)"
   ]
  },
  {
   "cell_type": "code",
   "execution_count": 4,
   "id": "instrumental-broadcasting",
   "metadata": {},
   "outputs": [],
   "source": [
    "def batch_encode(df, encoder, tokenizer, cache_fname):\n",
    "    bsz = 16\n",
    "    result = []\n",
    "    for i in tqdm(range(0, len(df), bsz)):\n",
    "        batch_text = df[\"sentence\"][i:i+bsz].tolist()\n",
    "        batch_inputs = tokenizer(batch_text, truncation=True, \n",
    "                                 max_length=tokenizer.model_max_length,\n",
    "                                 padding=True,\n",
    "                                return_tensors=\"pt\")\n",
    "        with torch.no_grad():\n",
    "            batch_output = encoder(**batch_inputs).pooler_output.numpy()  # (bsz, D)\n",
    "            result.append(batch_output)\n",
    "    res = np.concatenate(result, axis=0)\n",
    "    torch.save(res, cache_fname)\n",
    "\n",
    "#batch_encode(df, encoder, tokenizer, \"../notebooks/templated_stimuli_bert.pkl\")\n",
    "#batch_encode(df, encoder, tokenizer, \"../notebooks/templated_stimuli_roberta.pkl\")"
   ]
  },
  {
   "cell_type": "code",
   "execution_count": 5,
   "id": "modular-champagne",
   "metadata": {},
   "outputs": [
    {
     "data": {
      "text/plain": [
       "(1600, 768)"
      ]
     },
     "execution_count": 5,
     "metadata": {},
     "output_type": "execute_result"
    }
   ],
   "source": [
    "#encoded = torch.load(\"../notebooks/templated_stimuli_roberta.pkl\")\n",
    "encoded = torch.load(\"../notebooks/templated_stimuli_bert.pkl\")\n",
    "encoded.shape"
   ]
  },
  {
   "cell_type": "code",
   "execution_count": 6,
   "id": "packed-museum",
   "metadata": {},
   "outputs": [],
   "source": [
    "model = AgglomerativeClustering(distance_threshold=0, n_clusters=None)\n",
    "model = model.fit(encoded)"
   ]
  },
  {
   "cell_type": "code",
   "execution_count": 7,
   "id": "meaningful-barrel",
   "metadata": {},
   "outputs": [
    {
     "data": {
      "image/png": "[encoded data removed]",
      "text/plain": [
       "<Figure size 864x576 with 1 Axes>"
      ]
     },
     "metadata": {
      "needs_background": "light"
     },
     "output_type": "display_data"
    }
   ],
   "source": [
    "# https://scikit-learn.org/stable/auto_examples/cluster/plot_agglomerative_dendrogram.html\n",
    "def plot_dendrogram(model, **kwargs):\n",
    "    # Create linkage matrix and then plot the dendrogram\n",
    "\n",
    "    # create the counts of samples under each node\n",
    "    counts = np.zeros(model.children_.shape[0])\n",
    "    n_samples = len(model.labels_)\n",
    "    for i, merge in enumerate(model.children_):\n",
    "        current_count = 0\n",
    "        for child_idx in merge:\n",
    "            if child_idx < n_samples:\n",
    "                current_count += 1  # leaf node\n",
    "            else:\n",
    "                current_count += counts[child_idx - n_samples]\n",
    "        counts[i] = current_count\n",
    "\n",
    "    linkage_matrix = np.column_stack([model.children_, model.distances_,\n",
    "                                      counts]).astype(float)\n",
    "    # Plot the corresponding dendrogram\n",
    "    dendrogram(linkage_matrix, **kwargs)\n",
    "\n",
    "fig = plt.figure(figsize=(12,8))\n",
    "plot_dendrogram(model, truncate_mode=\"level\", p=3, orientation=\"top\")\n",
    "# Plot up to p+1 splits (2^{p+1} groups in total).\n",
    "# If we cut 4 classes (p=1), are they going to be verb or construct?\n",
    "# Looking from the numbers, the answer is \"neither\"...\n",
    "plt.xlabel(\"Number of points in node (or index of point if no parenthesis).\")\n",
    "plt.title(\"Hierarchical Clustering Dendrogram\")\n",
    "plt.show()"
   ]
  },
  {
   "cell_type": "code",
   "execution_count": 8,
   "id": "positive-nicholas",
   "metadata": {},
   "outputs": [
    {
     "data": {
      "image/png": "[encoded data removed]",
      "text/plain": [
       "<Figure size 864x576 with 1 Axes>"
      ]
     },
     "metadata": {
      "needs_background": "light"
     },
     "output_type": "display_data"
    }
   ],
   "source": [
    "fig = plt.figure(figsize=(12,8))\n",
    "plot_dendrogram(model, truncate_mode=\"level\", p=1, orientation=\"top\")\n",
    "# Plot up to p+1 splits (2^{p+1} groups in total).\n",
    "plt.xlabel(\"Number of points in node (or index of point if no parenthesis).\")\n",
    "plt.title(\"Hierarchical Clustering Dendrogram\")\n",
    "plt.show()"
   ]
  },
  {
   "cell_type": "code",
   "execution_count": 9,
   "id": "growing-fantasy",
   "metadata": {},
   "outputs": [],
   "source": [
    "# Can I find which sentence goes into which branch?\n",
    "cluster = AgglomerativeClustering(n_clusters=4)\n",
    "labels = cluster.fit_predict(encoded)"
   ]
  },
  {
   "cell_type": "code",
   "execution_count": 10,
   "id": "vocal-canal",
   "metadata": {},
   "outputs": [],
   "source": [
    "df[f\"{modelname}_cluster_outof4\"] = labels    "
   ]
  },
  {
   "cell_type": "code",
   "execution_count": 11,
   "id": "applicable-philip",
   "metadata": {},
   "outputs": [
    {
     "name": "stdout",
     "output_type": "stream",
     "text": [
      "Group 1 (total 542): N. of verbs: [80, 77, 68, 20, 26, 28, 10, 62, 22, 149]\n",
      "Group 2 (total 607): N. of verbs: [41, 45, 37, 57, 62, 112, 74, 114, 59, 6]\n",
      "Group 0 (total 379): N. of verbs: [4, 6, 67, 52, 54, 52, 72, 14, 58]\n",
      "Group 3 (total 72): N. of verbs: [15, 20, 4, 19, 6, 6, 1, 1]\n"
     ]
    }
   ],
   "source": [
    "for c in df[f\"{modelname}_cluster_outof4\"].drop_duplicates():\n",
    "    df_c = df[df[f\"{modelname}_cluster_outof4\"] == c]\n",
    "    verb_ns = df_c.groupby([\"verb\"]).count()[\"sentence\"].tolist()\n",
    "    print (\"Group {} (total {}): N. of verbs: {}\".format(c, len(df_c), verb_ns))"
   ]
  },
  {
   "cell_type": "code",
   "execution_count": 12,
   "id": "actual-marina",
   "metadata": {},
   "outputs": [
    {
     "name": "stdout",
     "output_type": "stream",
     "text": [
      "Group 1 (total 542): N. of constructs: [138, 131, 112, 161]\n",
      "Group 2 (total 607): N. of constructs: [191, 78, 169, 169]\n",
      "Group 0 (total 379): N. of constructs: [63, 158, 106, 52]\n",
      "Group 3 (total 72): N. of constructs: [8, 33, 13, 18]\n"
     ]
    }
   ],
   "source": [
    "for c in df[f\"{modelname}_cluster_outof4\"].drop_duplicates():\n",
    "    df_c = df[df[f\"{modelname}_cluster_outof4\"] == c]\n",
    "    construct_ns = df_c.groupby([\"construction\"]).count()[\"sentence\"].tolist()\n",
    "    print (\"Group {} (total {}): N. of constructs: {}\".format(c, len(df_c), construct_ns))"
   ]
  },
  {
   "cell_type": "markdown",
   "id": "yellow-preliminary",
   "metadata": {},
   "source": [
    "**Interpretations**  \n",
    "These constructions spread across the 4 groups really equally. This indicates that when we cluster into 4 groups, they are mainly divided by something other than constructions.  \n",
    "Update: Same applies to bert-base-cased.  "
   ]
  },
  {
   "cell_type": "code",
   "execution_count": 13,
   "id": "editorial-duration",
   "metadata": {},
   "outputs": [],
   "source": [
    "# Among each of these 4 groups, if we further split into 4, \n",
    "# are there imbalanaces among constructions?\n",
    "\n",
    "cluster = AgglomerativeClustering(n_clusters=16)\n",
    "labels = cluster.fit_predict(encoded)\n",
    "df[f\"{modelname}_cluster_outof16\"] = labels"
   ]
  },
  {
   "cell_type": "code",
   "execution_count": 14,
   "id": "medieval-shark",
   "metadata": {},
   "outputs": [
    {
     "data": {
      "text/html": [
       "<div>\n",
       "<style scoped>\n",
       "    .dataframe tbody tr th:only-of-type {\n",
       "        vertical-align: middle;\n",
       "    }\n",
       "\n",
       "    .dataframe tbody tr th {\n",
       "        vertical-align: top;\n",
       "    }\n",
       "\n",
       "    .dataframe thead th {\n",
       "        text-align: right;\n",
       "    }\n",
       "</style>\n",
       "<table border=\"1\" class=\"dataframe\">\n",
       "  <thead>\n",
       "    <tr style=\"text-align: right;\">\n",
       "      <th></th>\n",
       "      <th>group</th>\n",
       "      <th>sentence</th>\n",
       "      <th>verb</th>\n",
       "      <th>construction</th>\n",
       "      <th>bert-base-cased_cluster_outof4</th>\n",
       "      <th>bert-base-cased_cluster_outof16</th>\n",
       "    </tr>\n",
       "  </thead>\n",
       "  <tbody>\n",
       "    <tr>\n",
       "      <th>0</th>\n",
       "      <td>0</td>\n",
       "      <td>Bill tore the wall.</td>\n",
       "      <td>tore</td>\n",
       "      <td>transitive</td>\n",
       "      <td>1</td>\n",
       "      <td>4</td>\n",
       "    </tr>\n",
       "    <tr>\n",
       "      <th>1</th>\n",
       "      <td>0</td>\n",
       "      <td>Frank punched the door.</td>\n",
       "      <td>punched</td>\n",
       "      <td>transitive</td>\n",
       "      <td>2</td>\n",
       "      <td>1</td>\n",
       "    </tr>\n",
       "    <tr>\n",
       "      <th>2</th>\n",
       "      <td>0</td>\n",
       "      <td>Jack hit the fridge.</td>\n",
       "      <td>hit</td>\n",
       "      <td>transitive</td>\n",
       "      <td>0</td>\n",
       "      <td>0</td>\n",
       "    </tr>\n",
       "    <tr>\n",
       "      <th>3</th>\n",
       "      <td>0</td>\n",
       "      <td>Steve pulled the window.</td>\n",
       "      <td>pulled</td>\n",
       "      <td>transitive</td>\n",
       "      <td>0</td>\n",
       "      <td>11</td>\n",
       "    </tr>\n",
       "    <tr>\n",
       "      <th>4</th>\n",
       "      <td>0</td>\n",
       "      <td>Adam tore George the bread.</td>\n",
       "      <td>tore</td>\n",
       "      <td>ditransitive</td>\n",
       "      <td>1</td>\n",
       "      <td>6</td>\n",
       "    </tr>\n",
       "  </tbody>\n",
       "</table>\n",
       "</div>"
      ],
      "text/plain": [
       "   group                     sentence     verb  construction  \\\n",
       "0      0          Bill tore the wall.     tore    transitive   \n",
       "1      0      Frank punched the door.  punched    transitive   \n",
       "2      0         Jack hit the fridge.      hit    transitive   \n",
       "3      0     Steve pulled the window.   pulled    transitive   \n",
       "4      0  Adam tore George the bread.     tore  ditransitive   \n",
       "\n",
       "   bert-base-cased_cluster_outof4  bert-base-cased_cluster_outof16  \n",
       "0                               1                                4  \n",
       "1                               2                                1  \n",
       "2                               0                                0  \n",
       "3                               0                               11  \n",
       "4                               1                                6  "
      ]
     },
     "execution_count": 14,
     "metadata": {},
     "output_type": "execute_result"
    }
   ],
   "source": [
    "df.head()"
   ]
  },
  {
   "cell_type": "code",
   "execution_count": 16,
   "id": "german-blind",
   "metadata": {},
   "outputs": [
    {
     "name": "stdout",
     "output_type": "stream",
     "text": [
      "Cluster 4 (total 118). N. of constructions: [33, 18, 27, 40]\n",
      "Cluster 1 (total 206). N. of constructions: [50, 3, 74, 79]\n",
      "Cluster 0 (total 121). N. of constructions: [4, 83, 17, 17]\n",
      "Cluster 11 (total 46). N. of constructions: [7, 15, 18, 6]\n",
      "Cluster 6 (total 46). N. of constructions: [12, 25, 9]\n",
      "Cluster 7 (total 108). N. of constructions: [24, 59, 21, 4]\n",
      "Cluster 2 (total 210). N. of constructions: [111, 74, 4, 21]\n",
      "Cluster 5 (total 191). N. of constructions: [30, 1, 91, 69]\n",
      "Cluster 12 (total 104). N. of constructions: [28, 1, 50, 25]\n",
      "Cluster 3 (total 61). N. of constructions: [2, 4, 35, 20]\n",
      "Cluster 15 (total 113). N. of constructions: [29, 35, 7, 42]\n",
      "Cluster 9 (total 83). N. of constructions: [4, 12, 35, 32]\n",
      "Cluster 10 (total 87). N. of constructions: [41, 20, 8, 18]\n",
      "Cluster 8 (total 61). N. of constructions: [8, 28, 9, 16]\n",
      "Cluster 13 (total 34). N. of constructions: [17, 17]\n",
      "Cluster 14 (total 11). N. of constructions: [5, 4, 2]\n"
     ]
    }
   ],
   "source": [
    "for c in df[f\"{modelname}_cluster_outof16\"].drop_duplicates():\n",
    "    df_c = df[df[f\"{modelname}_cluster_outof16\"]==c]\n",
    "    const_counts = df_c.groupby([\"construction\"]).count()[\"sentence\"].tolist()\n",
    "    print(\"Cluster {} (total {}). N. of constructions: {}\".format(\n",
    "        c, len(df_c), const_counts\n",
    "    ))"
   ]
  },
  {
   "cell_type": "markdown",
   "id": "cleared-surgeon",
   "metadata": {},
   "source": [
    "There are still fairly scattered distributions.  \n",
    "Apparently, when we divide into 16 clusters, RoBERTa (update: BERT as well) still cluster by considering a lot of thing outside constructions"
   ]
  },
  {
   "cell_type": "code",
   "execution_count": null,
   "id": "nuclear-ancient",
   "metadata": {},
   "outputs": [],
   "source": []
  }
 ],
 "metadata": {
  "kernelspec": {
   "display_name": "Python 3",
   "language": "python",
   "name": "python3"
  },
  "language_info": {
   "codemirror_mode": {
    "name": "ipython",
    "version": 3
   },
   "file_extension": ".py",
   "mimetype": "text/x-python",
   "name": "python",
   "nbconvert_exporter": "python",
   "pygments_lexer": "ipython3",
   "version": "3.9.2"
  }
 },
 "nbformat": 4,
 "nbformat_minor": 5
}
