{
 "cells": [
  {
   "cell_type": "markdown",
   "id": "based-wichita",
   "metadata": {},
   "source": [
    "# Labeling (round 2) statistics"
   ]
  },
  {
   "cell_type": "code",
   "execution_count": 1,
   "id": "shared-tsunami",
   "metadata": {},
   "outputs": [],
   "source": [
    "import krippendorff \n",
    "import pandas as pd\n",
    "import numpy as np\n",
    "from pathlib import Path\n",
    "from sklearn.metrics import cohen_kappa_score\n",
    "from scipy.stats import pearsonr, spearmanr\n",
    "import seaborn as sns"
   ]
  },
  {
   "cell_type": "code",
   "execution_count": 2,
   "id": "mexican-england",
   "metadata": {},
   "outputs": [
    {
     "data": {
      "text/plain": [
       "[PosixPath('../data/round2_sent_pairs/Paired Annotation - Sheet1.csv'),\n",
       " PosixPath('../data/round2_sent_pairs/annotation-upwork.csv'),\n",
       " PosixPath('../data/round2_sent_pairs/original.csv'),\n",
       " PosixPath('../data/round2_sent_pairs/annotation-zining.csv'),\n",
       " PosixPath('../data/round2_sent_pairs/annotation-bai.csv')]"
      ]
     },
     "execution_count": 2,
     "metadata": {},
     "output_type": "execute_result"
    }
   ],
   "source": [
    "data_dir = Path(\"../data/round2_sent_pairs\")\n",
    "[p for p in data_dir.glob(\"*.csv\")]"
   ]
  },
  {
   "cell_type": "code",
   "execution_count": 3,
   "id": "swedish-aspect",
   "metadata": {},
   "outputs": [],
   "source": [
    "df_bai = pd.read_csv(Path(data_dir, \"annotation-bai.csv\")).rename(columns={\"delta\": \"delta_bai\", \"code\": \"code_bai\"})\n",
    "df_zining = pd.read_csv(Path(data_dir, \"annotation-zining.csv\"))\\\n",
    "    .replace({\"logical\": \"atypical\"})\\\n",
    "    .rename(columns={\"delta\": \"delta_zining\", \"code\": \"code_zining\"})\n",
    "df_upwork = pd.read_csv(Path(data_dir, \"annotation-upwork.csv\"))\\\n",
    "    .drop(columns=[\"Unnamed: 4\"])\\\n",
    "    .rename(columns={\"delta\": \"delta_upwork\", \"code\": \"code_upwork\"})\\\n",
    "    .replace({\"Nonsense\": \"nonsense\"})"
   ]
  },
  {
   "cell_type": "code",
   "execution_count": 4,
   "id": "stunning-princeton",
   "metadata": {},
   "outputs": [
    {
     "data": {
      "text/plain": [
       "0       nonsense\n",
       "1            NaN\n",
       "2       atypical\n",
       "6     expression\n",
       "11      physical\n",
       "14     syntactic\n",
       "Name: code_bai, dtype: object"
      ]
     },
     "execution_count": 4,
     "metadata": {},
     "output_type": "execute_result"
    }
   ],
   "source": [
    "df_bai.code_bai.drop_duplicates()"
   ]
  },
  {
   "cell_type": "code",
   "execution_count": 5,
   "id": "ancient-crossing",
   "metadata": {},
   "outputs": [
    {
     "data": {
      "text/plain": [
       "0       nonsense\n",
       "1            NaN\n",
       "3       physical\n",
       "4       atypical\n",
       "5     expression\n",
       "14     syntactic\n",
       "Name: code_zining, dtype: object"
      ]
     },
     "execution_count": 5,
     "metadata": {},
     "output_type": "execute_result"
    }
   ],
   "source": [
    "df_zining.code_zining.drop_duplicates()"
   ]
  },
  {
   "cell_type": "code",
   "execution_count": 6,
   "id": "fifteen-burner",
   "metadata": {},
   "outputs": [
    {
     "data": {
      "text/plain": [
       "0       physical\n",
       "1       nonsense\n",
       "2     expression\n",
       "3       atypical\n",
       "5            NaN\n",
       "16     syntactic\n",
       "Name: code_upwork, dtype: object"
      ]
     },
     "execution_count": 6,
     "metadata": {},
     "output_type": "execute_result"
    }
   ],
   "source": [
    "df_upwork.code_upwork.drop_duplicates()"
   ]
  },
  {
   "cell_type": "code",
   "execution_count": 7,
   "id": "certified-prophet",
   "metadata": {},
   "outputs": [
    {
     "data": {
      "text/html": [
       "<div>\n",
       "<style scoped>\n",
       "    .dataframe tbody tr th:only-of-type {\n",
       "        vertical-align: middle;\n",
       "    }\n",
       "\n",
       "    .dataframe tbody tr th {\n",
       "        vertical-align: top;\n",
       "    }\n",
       "\n",
       "    .dataframe thead th {\n",
       "        text-align: right;\n",
       "    }\n",
       "</style>\n",
       "<table border=\"1\" class=\"dataframe\">\n",
       "  <thead>\n",
       "    <tr style=\"text-align: right;\">\n",
       "      <th></th>\n",
       "      <th>text1</th>\n",
       "      <th>text2</th>\n",
       "      <th>delta_bai</th>\n",
       "      <th>code_bai</th>\n",
       "      <th>delta_zining</th>\n",
       "      <th>code_zining</th>\n",
       "      <th>delta_upwork</th>\n",
       "      <th>code_upwork</th>\n",
       "    </tr>\n",
       "  </thead>\n",
       "  <tbody>\n",
       "    <tr>\n",
       "      <th>0</th>\n",
       "      <td>His knife clinked to the floor .</td>\n",
       "      <td>His knife clinked to the inside .</td>\n",
       "      <td>-2</td>\n",
       "      <td>nonsense</td>\n",
       "      <td>-2</td>\n",
       "      <td>nonsense</td>\n",
       "      <td>-2</td>\n",
       "      <td>physical</td>\n",
       "    </tr>\n",
       "    <tr>\n",
       "      <th>1</th>\n",
       "      <td>Claire sprints into writing .</td>\n",
       "      <td>Claire sprints into work .</td>\n",
       "      <td>0</td>\n",
       "      <td>NaN</td>\n",
       "      <td>0</td>\n",
       "      <td>NaN</td>\n",
       "      <td>2</td>\n",
       "      <td>nonsense</td>\n",
       "    </tr>\n",
       "    <tr>\n",
       "      <th>2</th>\n",
       "      <td>A stream of visitors turned up at the camp .</td>\n",
       "      <td>A stream of listeners turned up at the camp .</td>\n",
       "      <td>-2</td>\n",
       "      <td>atypical</td>\n",
       "      <td>0</td>\n",
       "      <td>NaN</td>\n",
       "      <td>-2</td>\n",
       "      <td>expression</td>\n",
       "    </tr>\n",
       "    <tr>\n",
       "      <th>3</th>\n",
       "      <td>Grill the coconut until golden ; cool .</td>\n",
       "      <td>Grill the cake until golden ; cool .</td>\n",
       "      <td>2</td>\n",
       "      <td>atypical</td>\n",
       "      <td>-2</td>\n",
       "      <td>physical</td>\n",
       "      <td>2</td>\n",
       "      <td>atypical</td>\n",
       "    </tr>\n",
       "    <tr>\n",
       "      <th>4</th>\n",
       "      <td>The contract was concluded at that beginning .</td>\n",
       "      <td>The contract was concluded at that time .</td>\n",
       "      <td>2</td>\n",
       "      <td>nonsense</td>\n",
       "      <td>2</td>\n",
       "      <td>atypical</td>\n",
       "      <td>-1</td>\n",
       "      <td>expression</td>\n",
       "    </tr>\n",
       "  </tbody>\n",
       "</table>\n",
       "</div>"
      ],
      "text/plain": [
       "                                            text1  \\\n",
       "0                His knife clinked to the floor .   \n",
       "1                   Claire sprints into writing .   \n",
       "2    A stream of visitors turned up at the camp .   \n",
       "3         Grill the coconut until golden ; cool .   \n",
       "4  The contract was concluded at that beginning .   \n",
       "\n",
       "                                           text2  delta_bai  code_bai  \\\n",
       "0              His knife clinked to the inside .         -2  nonsense   \n",
       "1                     Claire sprints into work .          0       NaN   \n",
       "2  A stream of listeners turned up at the camp .         -2  atypical   \n",
       "3           Grill the cake until golden ; cool .          2  atypical   \n",
       "4      The contract was concluded at that time .          2  nonsense   \n",
       "\n",
       "   delta_zining code_zining  delta_upwork code_upwork  \n",
       "0            -2    nonsense            -2    physical  \n",
       "1             0         NaN             2    nonsense  \n",
       "2             0         NaN            -2  expression  \n",
       "3            -2    physical             2    atypical  \n",
       "4             2    atypical            -1  expression  "
      ]
     },
     "execution_count": 7,
     "metadata": {},
     "output_type": "execute_result"
    }
   ],
   "source": [
    "df = pd.merge(df_bai, df_zining, on=[\"text1\", \"text2\"], how=\"inner\")\n",
    "df = pd.merge(df, df_upwork, on=[\"text1\", \"text2\"], how=\"inner\")\n",
    "df.head()"
   ]
  },
  {
   "cell_type": "code",
   "execution_count": 8,
   "id": "elegant-wednesday",
   "metadata": {},
   "outputs": [
    {
     "data": {
      "text/html": [
       "<div>\n",
       "<style scoped>\n",
       "    .dataframe tbody tr th:only-of-type {\n",
       "        vertical-align: middle;\n",
       "    }\n",
       "\n",
       "    .dataframe tbody tr th {\n",
       "        vertical-align: top;\n",
       "    }\n",
       "\n",
       "    .dataframe thead th {\n",
       "        text-align: right;\n",
       "    }\n",
       "</style>\n",
       "<table border=\"1\" class=\"dataframe\">\n",
       "  <thead>\n",
       "    <tr style=\"text-align: right;\">\n",
       "      <th></th>\n",
       "      <th>delta_bai</th>\n",
       "      <th>delta_zining</th>\n",
       "      <th>delta_upwork</th>\n",
       "    </tr>\n",
       "  </thead>\n",
       "  <tbody>\n",
       "    <tr>\n",
       "      <th>delta_bai</th>\n",
       "      <td>1.000000</td>\n",
       "      <td>0.664000</td>\n",
       "      <td>0.594549</td>\n",
       "    </tr>\n",
       "    <tr>\n",
       "      <th>delta_zining</th>\n",
       "      <td>0.664000</td>\n",
       "      <td>1.000000</td>\n",
       "      <td>0.552962</td>\n",
       "    </tr>\n",
       "    <tr>\n",
       "      <th>delta_upwork</th>\n",
       "      <td>0.594549</td>\n",
       "      <td>0.552962</td>\n",
       "      <td>1.000000</td>\n",
       "    </tr>\n",
       "  </tbody>\n",
       "</table>\n",
       "</div>"
      ],
      "text/plain": [
       "              delta_bai  delta_zining  delta_upwork\n",
       "delta_bai      1.000000      0.664000      0.594549\n",
       "delta_zining   0.664000      1.000000      0.552962\n",
       "delta_upwork   0.594549      0.552962      1.000000"
      ]
     },
     "execution_count": 8,
     "metadata": {},
     "output_type": "execute_result"
    }
   ],
   "source": [
    "df.corr()"
   ]
  },
  {
   "cell_type": "code",
   "execution_count": 9,
   "id": "angry-gothic",
   "metadata": {},
   "outputs": [
    {
     "name": "stdout",
     "output_type": "stream",
     "text": [
      "bai, zining:\t kappa=0.4007\t r=0.6677, p=0.0000\n",
      "bai, upwork:\t kappa=0.2672\t r=0.5929, p=0.0000\n",
      "zining, upwork:\t kappa=0.3074\t r=0.5612, p=0.0000\n"
     ]
    }
   ],
   "source": [
    "def compute_agreements_delta():\n",
    "    names = [\"bai\", \"zining\", \"upwork\"]\n",
    "    for i in range(len(names)-1):\n",
    "        for j in range(i+1, len(names)):\n",
    "            col_i = df[\"delta_{}\".format(names[i])]\n",
    "            col_j = df[\"delta_{}\".format(names[j])]\n",
    "            kappa = cohen_kappa_score(col_i, col_j)\n",
    "            r, p = spearmanr(col_i, col_j)\n",
    "            print (\"{}, {}:\\t kappa={:.4f}\\t r={:.4f}, p={:.4f}\".format(names[i], names[j], kappa, r, p))\n",
    "            \n",
    "compute_agreements_delta()"
   ]
  },
  {
   "cell_type": "code",
   "execution_count": 10,
   "id": "lovely-glasgow",
   "metadata": {},
   "outputs": [
    {
     "name": "stdout",
     "output_type": "stream",
     "text": [
      "NLTK implementation:\n",
      "Cohen's kappa:\n",
      "    bai, zining   \t 0.4007\n",
      "    bai, upwork   \t 0.2672\n",
      "    zining, upwork   \t 0.3074\n",
      "Fleiss Kappa: 0.3245\n",
      "Krippendorff alpha: 0.3140\n",
      "\n",
      "pip install krippendorff implementation:\n",
      "Krippendorff alpha=0.5817\n"
     ]
    }
   ],
   "source": [
    "from nltk.metrics.agreement import AnnotationTask\n",
    "\n",
    "def inter_annotator_agreements():\n",
    "    \"\"\"\n",
    "    Fleiss's Kappa\n",
    "    Krippendorff's Alpha\n",
    "    \"\"\"\n",
    "    print (\"NLTK implementation:\")\n",
    "    data = []\n",
    "    for i, row in df.iterrows():\n",
    "        data.append([\"bai\", f\"{i}\", row[\"delta_bai\"]])\n",
    "        data.append([\"zining\", f\"{i}\", row[\"delta_zining\"]])\n",
    "        data.append([\"upwork\", f\"{i}\", row[\"delta_upwork\"]])\n",
    "    at = AnnotationTask(data=data)\n",
    "    print(\"Cohen's kappa:\")\n",
    "    annotators = [\"bai\", \"zining\", \"upwork\"]\n",
    "    for ai in range(len(annotators)-1):\n",
    "        for aj in range(ai+1, len(annotators)):\n",
    "            print(\"    {}, {}   \\t {:.4f}\".format(annotators[ai], annotators[aj], \n",
    "                                      at.kappa_pairwise(annotators[ai], annotators[aj])))\n",
    "        \n",
    "    print(\"Fleiss Kappa: {:.4f}\".format(at.multi_kappa()))\n",
    "    print(\"Krippendorff alpha: {:.4f}\".format(at.alpha()))\n",
    "    \n",
    "    print (\"\")\n",
    "    print (\"pip install krippendorff implementation:\")\n",
    "    alpha = krippendorff.alpha([df[\"delta_bai\"], df[\"delta_zining\"], df[\"delta_upwork\"]])\n",
    "    print (\"Krippendorff alpha={:.4f}\".format(alpha))\n",
    "    \n",
    "inter_annotator_agreements()"
   ]
  },
  {
   "cell_type": "code",
   "execution_count": 11,
   "id": "radical-report",
   "metadata": {},
   "outputs": [
    {
     "name": "stdout",
     "output_type": "stream",
     "text": [
      "Agreements for atypical\n",
      "bai, zining:\t kappa=-0.0070\t r=-0.0071, p=0.9464\n",
      "bai, upwork:\t kappa=0.0948\t r=0.0975, p=0.3553\n",
      "zining, upwork:\t kappa=0.1540\t r=0.1546, p=0.1411\n",
      "Agreements for physical\n",
      "bai, zining:\t kappa=0.4576\t r=0.4864, p=0.0000\n",
      "bai, upwork:\t kappa=0.2133\t r=0.2135, p=0.0410\n",
      "zining, upwork:\t kappa=0.1379\t r=0.1491, p=0.1561\n",
      "Agreements for expression\n",
      "bai, zining:\t kappa=-0.0392\t r=-0.0605, p=0.5669\n",
      "bai, upwork:\t kappa=0.0640\t r=0.0773, p=0.4640\n",
      "zining, upwork:\t kappa=-0.0428\t r=-0.1141, p=0.2787\n",
      "Agreements for syntactic\n",
      "bai, zining:\t kappa=0.3320\t r=0.3777, p=0.0002\n",
      "bai, upwork:\t kappa=0.1869\t r=0.1994, p=0.0567\n",
      "zining, upwork:\t kappa=0.0738\t r=0.0747, p=0.4790\n",
      "Agreements for nonsense\n",
      "bai, zining:\t kappa=0.2782\t r=0.3279, p=0.0014\n",
      "bai, upwork:\t kappa=-0.0587\t r=-0.0874, p=0.4074\n",
      "zining, upwork:\t kappa=-0.0455\t r=-0.0485, p=0.6462\n"
     ]
    }
   ],
   "source": [
    "def code2int(L, label):\n",
    "    newL = [0] * len(L)\n",
    "    for i, item in enumerate(L):\n",
    "        if item == label:\n",
    "            newL[i] = 1\n",
    "    return newL\n",
    "    \n",
    "def compute_agreements_code(label):\n",
    "    names = [\"bai\", \"zining\", \"upwork\"]\n",
    "    print (\"Agreements for \" + label)\n",
    "    for i in range(len(names)-1):\n",
    "        for j in range(i+1, len(names)):\n",
    "            col_i = code2int(df[\"code_{}\".format(names[i])], label)\n",
    "            col_j = code2int(df[\"code_{}\".format(names[j])], label)\n",
    "            kappa = cohen_kappa_score(col_i, col_j)\n",
    "            r, p = spearmanr(col_i, col_j)\n",
    "            print (\"{}, {}:\\t kappa={:.4f}\\t r={:.4f}, p={:.4f}\".format(names[i], names[j], kappa, r, p))\n",
    "            \n",
    "compute_agreements_code(\"atypical\")\n",
    "compute_agreements_code(\"physical\")\n",
    "compute_agreements_code(\"expression\")\n",
    "compute_agreements_code(\"syntactic\")\n",
    "compute_agreements_code(\"nonsense\")"
   ]
  },
  {
   "cell_type": "code",
   "execution_count": 12,
   "id": "boxed-sessions",
   "metadata": {},
   "outputs": [],
   "source": [
    "df.to_csv(\"round2_merged.csv\", index=False)"
   ]
  },
  {
   "cell_type": "code",
   "execution_count": null,
   "id": "disabled-bouquet",
   "metadata": {},
   "outputs": [],
   "source": []
  },
  {
   "cell_type": "code",
   "execution_count": null,
   "id": "aerial-albuquerque",
   "metadata": {},
   "outputs": [],
   "source": []
  }
 ],
 "metadata": {
  "kernelspec": {
   "display_name": "Python 3",
   "language": "python",
   "name": "python3"
  },
  "language_info": {
   "codemirror_mode": {
    "name": "ipython",
    "version": 3
   },
   "file_extension": ".py",
   "mimetype": "text/x-python",
   "name": "python",
   "nbconvert_exporter": "python",
   "pygments_lexer": "ipython3",
   "version": "3.9.2"
  }
 },
 "nbformat": 4,
 "nbformat_minor": 5
}
