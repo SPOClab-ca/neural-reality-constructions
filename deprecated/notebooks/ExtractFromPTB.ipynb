{
 "cells": [
  {
   "cell_type": "markdown",
   "metadata": {},
   "source": [
    "# Extract contructions from Penn treebank"
   ]
  },
  {
   "cell_type": "code",
   "execution_count": 1,
   "metadata": {},
   "outputs": [],
   "source": [
    "import numpy as np\n",
    "import pandas as pd\n",
    "import matplotlib.pyplot as plt\n",
    "import seaborn as sns\n",
    "import tqdm\n",
    "import torch\n",
    "from collections import defaultdict\n",
    "import random\n",
    "import math\n",
    "import pickle\n",
    "import nltk\n",
    "from nltk.corpus import treebank\n",
    "\n",
    "%matplotlib inline\n",
    "%load_ext autoreload\n",
    "%autoreload 2\n",
    "pd.options.display.max_columns = 100\n",
    "pd.options.display.max_rows = 100"
   ]
  },
  {
   "cell_type": "markdown",
   "metadata": {},
   "source": [
    "## Read PTB Data"
   ]
  },
  {
   "cell_type": "code",
   "execution_count": 2,
   "metadata": {},
   "outputs": [],
   "source": [
    "penn = nltk.corpus.reader.bracket_parse.BracketParseCorpusReader(\"../data/PTB3\", \".*\\.tree\")"
   ]
  },
  {
   "cell_type": "code",
   "execution_count": 3,
   "metadata": {},
   "outputs": [
    {
     "data": {
      "text/plain": [
       "49207"
      ]
     },
     "execution_count": 3,
     "metadata": {},
     "output_type": "execute_result"
    }
   ],
   "source": [
    "len(penn.parsed_sents())"
   ]
  },
  {
   "cell_type": "code",
   "execution_count": 4,
   "metadata": {},
   "outputs": [
    {
     "name": "stdout",
     "output_type": "stream",
     "text": [
      "(S\n",
      "  (NP-SBJ\n",
      "    (NP (NNP Pierre) (NNP Vinken))\n",
      "    (, ,)\n",
      "    (ADJP (NP (CD 61) (NNS years)) (JJ old))\n",
      "    (, ,))\n",
      "  (VP\n",
      "    (MD will)\n",
      "    (VP\n",
      "      (VB join)\n",
      "      (NP (DT the) (NN board))\n",
      "      (PP-CLR (IN as) (NP (DT a) (JJ nonexecutive) (NN director)))\n",
      "      (NP-TMP (NNP Nov.) (CD 29))))\n",
      "  (. .))\n"
     ]
    }
   ],
   "source": [
    "print(penn.parsed_sents()[0])"
   ]
  },
  {
   "cell_type": "markdown",
   "metadata": {},
   "source": [
    "## Find LET-ALONE and WAY constructions"
   ]
  },
  {
   "cell_type": "code",
   "execution_count": 5,
   "metadata": {},
   "outputs": [
    {
     "name": "stdout",
     "output_type": "stream",
     "text": [
      "Muzzling provisions , which *T* might be called * *PRO* `` blindfold laws '' as well , prevent the executive branch from *PRO* even looking at certain policy options , let alone from *PRO* recommending them to Congress .\n",
      "For one thing , it *EXP* 's unlikely that many people would receive federal death sentences , let alone be executed * .\n",
      "Here was *T* the state security appartus poised * to pounce on any words or acts of provocation , let alone revolution .\n",
      "Those events continue * to move at a rate *RNR* , and in a direction *RNR* , which *T* leave informed commentary -- let alone policy -- far in their wake .\n",
      "It was the kind of snubbing rarely seen within the Congress , let alone within the same party .\n"
     ]
    }
   ],
   "source": [
    "def find_let_alone(tree):\n",
    "  return \"let alone\" in \" \".join(tree.leaves())\n",
    "\n",
    "for tree in penn.parsed_sents():\n",
    "  if find_let_alone(tree):\n",
    "    print(\" \".join(tree.leaves()))"
   ]
  },
  {
   "cell_type": "code",
   "execution_count": 6,
   "metadata": {},
   "outputs": [
    {
     "name": "stdout",
     "output_type": "stream",
     "text": [
      "Indeed , analysts say that payouts have sometimes risen most sharply when prices were already on their way down from cyclical peaks *T* .\n",
      "Program traders ' `` power *PRO* to create total panic is so great that they ca n't be allowed * to have their way , '' says *0* *T* Rep. Edward Markey , a Massachusetts Democrat .\n",
      "*PRO* Keeping the mood *PRO* light , the two then chanted and chortled their way through some murderous polyrhythms , devised * by Mr. Douglas as an alternative to Hindemith 's dry theory - teaching techniques , and then , with Mr. Gomez , soared and improvised on the composer 's tight `` Bebop Etudes . ''\n",
      "The curator , 27 - year - old Sherman Krisher of Greenwich , Conn. , had worked his way up from janitor in seven years at the museum .\n",
      "*PRO* Following a problem - solving formula used * by teams throughout Federal Express , members of the Natick team monitored their morning routine , *PRO* carefully noting where and when the work group 's resources were used * effectively *T* and where they were idle , *PRO* waiting for others upstream in the process to send packages their way *T* .\n",
      "In fact , the administration and the Fed have been going out of their way in the past two weeks *PRO* to dispel any impression that they are at odds , *PRO* fearing *0* stories about an administration - Fed split added to the stock market 's jitters .\n",
      "There 's little doubt that such a move would be immediately challenged * in court -- and that it would quickly make its way to the Supreme Court *PRO* to be ultimately resolved * .\n",
      "Another close ally is Ruth Messinger , a Manhattan city councilwoman , some of whose programs , such as commercial rent control , *T* have made their way into Mr. Dinkins 's position papers .\n",
      "Michael Deaver , the former White House aide , has become the most recent addition to the teeming ranks of fallen politicians and officials earning their way as lobbyists and consultants here .\n",
      "Congress seems * likely * to let the new chairman have his way for a while .\n",
      "But Mr. Breeden already has shown an eagerness *PRO* to run the SEC his way .\n",
      "It chronicles how , over a period of a dozen years , Southern Methodist University bought its way to football respectability in the Southwest Conference , *PRO* only to find itself trapped and strangled * by the athlete - payoff system *0* it created *T* *T* .\n",
      "And if she and the Battery Park City Authority have their way , her horticulturally inept plan will soon go public as a real garden `` artwork '' in the downtown complex .\n",
      "`` And short - term , the technicians may have their way . ''\n",
      "Their `` secret '' is that they gather a small group of advisers around them , listen to what they have * to say *T* , prepare a business plan and they are on their way .\n",
      "About 400,000 commuters trying *PRO* to find their way through the Bay area 's quake - torn transportation system wedged cheek - to - jowl into subways , sat in traffic jams on major freeways or waited forlornly for buses yesterday .\n",
      "`` This is a watershed time , and we are trying *PRO* to plot our way ahead , '' he says *T* .\n",
      "And although Mr. Roman and WPP 's chief executive , Martin Sorrell , have gone out of their way *PRO* to be publicly supportive of each other , people close to Mr. Roman say *0* he was unhappy *PRO* giving up control of the company .\n",
      "`` It *EXP* helps *PRO* to point out how many important people *T* came through Cleveland on their way to the top , '' says *T* George Miller , executive director of the New Cleveland Campaign , a nonprofit organization devoted to *PRO* citing the city 's strengths .\n",
      "They are a tribute to Federal 's management which , since the company 's founding 16 years ago , *T* has had its way with its work force -- an unusual feat in the contentious transportation industry .\n",
      "A couple in fashionable spandex warm - up suits jogs by , headphones jauntily in place , *PRO* weaving their way along a street of fractured and fallen houses .\n",
      "The survey found that over a three - year period 22 % of the firms said *0* employees or owners had been robbed * on their way to or from work or while on the job .\n",
      "If Mr. McDonough has his way , the Poles will compensate for the trade center 's emissions of carbon dioxide , a prime suspect in the global atmospheric warming *0* many scientists fear *T* .\n",
      "IF CONTINENTAL Airlines has its way , couples like Marlo Thomas and Phil Donahue may find it *EXP* a hassle *PRO* to qualify for some new discounts .\n",
      "Within two days , he was on his way to New York and Tokyo *PRO* to meet with top brass at Sony .\n",
      "It *EXP* would be entirely rational for communist insurgents in countries such as the Philippines or Peru to conclude the following : *PRO* Fight viciously enough and the U.S. , under the banner of pragmatism , might eventually help *PRO* negotiate your way to victory .\n",
      "`` If we want *PRO* to survive as a people , '' he says *?* , `` we have * to change our way of life .\n",
      "Hundreds of Californians made their way to their computers after the quake , and checked in with each other on electronic bulletin boards , which *T* link computers CB - radio - style , via phone lines .\n",
      "The space shuttle Atlantis boosted the Galileo spacecraft on its way to Jupiter , *PRO* giving a big lift as well to an ambitious U.S. program of space exploration .\n",
      "`` Galileo is on its way to another world in the hands of the best flight controllers in this world , '' Atlantis Commander Donald Williams said *T* .\n",
      "`` It 's like *PRO* fighting your way out of a fog .\n",
      "As aftershocks shook the San Francisco Bay area , rescuers searched through rubble for survivors of Tuesday 's temblor , and residents picked their way through glass - strewn streets .\n",
      "In August 1983 , Mr. Noriega took over as General *RNR* and de-facto dictator *RNR* of Panama , *PRO* having maneuvered his way to the top only two years after the mysterious death in a plane crash of his old boss Omar Torrijos .\n",
      "CREATIVE ACCOUNTING , mostly by conglomerates , forced CPAs *PRO* to change their way of *PRO* setting standards *0* *T* to be followed * by corporations reporting financial results , standards that *T* had become all too flexible .\n",
      "A three - judge appeals panel yesterday refused *PRO* to comply , though liberal Judge Pat Wald went out of her way *PRO* to deny that this was a `` frivolous '' case .\n",
      "Surprisingly , Shane Longman survives the week , only *PRO* to have a senior executive innocently bumble his way into *PRO* becoming the target of a criminal insider trading investigation .\n",
      "Government officials here and in other countries laid plans *ICH* through the weekend *PRO* to head off a Monday market meltdown -- but went out of their way *PRO* to keep their moves *PRO* quiet .\n"
     ]
    }
   ],
   "source": [
    "# Find trees containing something like (NP (PRP$ his) (NN way))\n",
    "def find_way(tree):\n",
    "  for st in tree.subtrees():\n",
    "    if len(st) == 2 and st[0].label().startswith(\"PRP\") and st[1].leaves() == [\"way\"]:\n",
    "      return True\n",
    "  return False\n",
    "\n",
    "for tree in penn.parsed_sents():\n",
    "  if find_way(tree):\n",
    "    print(\" \".join(tree.leaves()))"
   ]
  }
 ],
 "metadata": {
  "kernelspec": {
   "display_name": "Python 3",
   "language": "python",
   "name": "python3"
  },
  "language_info": {
   "codemirror_mode": {
    "name": "ipython",
    "version": 3
   },
   "file_extension": ".py",
   "mimetype": "text/x-python",
   "name": "python",
   "nbconvert_exporter": "python",
   "pygments_lexer": "ipython3",
   "version": "3.7.5"
  }
 },
 "nbformat": 4,
 "nbformat_minor": 4
}
